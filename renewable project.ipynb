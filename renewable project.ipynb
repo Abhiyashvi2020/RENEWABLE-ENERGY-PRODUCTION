{
 "cells": [
  {
   "cell_type": "markdown",
   "id": "721cd9eb-25a2-477d-ac84-4bd25ce21136",
   "metadata": {},
   "source": [
    "### RENEWABLE ENERGY PRODUCTION"
   ]
  },
  {
   "cell_type": "code",
   "execution_count": null,
   "id": "b2f990fb-bf9f-43c1-810f-f9db5cdff00f",
   "metadata": {},
   "outputs": [],
   "source": [
    "import pandas as pd\n",
    "import seaborn as sns\n",
    "import warnings"
   ]
  },
  {
   "cell_type": "code",
   "execution_count": 4,
   "id": "1c22419f-469a-4b9f-bd8b-3e4fec05bd3b",
   "metadata": {},
   "outputs": [],
   "source": [
    "df=pd.read_csv(\"Downloads/complete_renewable_energy_dataset.csv\")"
   ]
  },
  {
   "cell_type": "markdown",
   "id": "3fd574d8-1e21-4770-bdf2-755f932b5e84",
   "metadata": {},
   "source": [
    "### STARTING WITH THE BASIC COMMANDS:"
   ]
  },
  {
   "cell_type": "code",
   "execution_count": 5,
   "id": "4265d57b-7773-4774-94c6-a639654e7f11",
   "metadata": {},
   "outputs": [
    {
     "data": {
      "text/html": [
       "<div>\n",
       "<style scoped>\n",
       "    .dataframe tbody tr th:only-of-type {\n",
       "        vertical-align: middle;\n",
       "    }\n",
       "\n",
       "    .dataframe tbody tr th {\n",
       "        vertical-align: top;\n",
       "    }\n",
       "\n",
       "    .dataframe thead th {\n",
       "        text-align: right;\n",
       "    }\n",
       "</style>\n",
       "<table border=\"1\" class=\"dataframe\">\n",
       "  <thead>\n",
       "    <tr style=\"text-align: right;\">\n",
       "      <th></th>\n",
       "      <th>Country</th>\n",
       "      <th>Year</th>\n",
       "      <th>Energy Type</th>\n",
       "      <th>Production (GWh)</th>\n",
       "      <th>Installed Capacity (MW)</th>\n",
       "      <th>Investments (USD)</th>\n",
       "      <th>Population</th>\n",
       "      <th>GDP</th>\n",
       "      <th>Energy Consumption</th>\n",
       "      <th>Energy Exports</th>\n",
       "      <th>...</th>\n",
       "      <th>Economic Freedom Index</th>\n",
       "      <th>Ease of Doing Business</th>\n",
       "      <th>Innovation Index</th>\n",
       "      <th>Number of Research Institutions</th>\n",
       "      <th>Number of Renewable Energy Conferences</th>\n",
       "      <th>Number of Renewable Energy Publications</th>\n",
       "      <th>Energy Sector Workforce</th>\n",
       "      <th>Proportion of Energy from Renewables</th>\n",
       "      <th>Public-Private Partnerships in Energy</th>\n",
       "      <th>Regional Renewable Energy Cooperation</th>\n",
       "    </tr>\n",
       "  </thead>\n",
       "  <tbody>\n",
       "    <tr>\n",
       "      <th>0</th>\n",
       "      <td>USA</td>\n",
       "      <td>2011</td>\n",
       "      <td>Solar</td>\n",
       "      <td>85404.690027</td>\n",
       "      <td>5549.794323</td>\n",
       "      <td>5.604125e+09</td>\n",
       "      <td>1064007213</td>\n",
       "      <td>1.775278e+14</td>\n",
       "      <td>369654.644184</td>\n",
       "      <td>93087.198199</td>\n",
       "      <td>...</td>\n",
       "      <td>49.216800</td>\n",
       "      <td>57.678605</td>\n",
       "      <td>76.803228</td>\n",
       "      <td>851</td>\n",
       "      <td>75</td>\n",
       "      <td>6361</td>\n",
       "      <td>511658</td>\n",
       "      <td>25.907895</td>\n",
       "      <td>1</td>\n",
       "      <td>0</td>\n",
       "    </tr>\n",
       "    <tr>\n",
       "      <th>1</th>\n",
       "      <td>Australia</td>\n",
       "      <td>2008</td>\n",
       "      <td>Geothermal</td>\n",
       "      <td>22205.069382</td>\n",
       "      <td>43211.593798</td>\n",
       "      <td>6.361886e+08</td>\n",
       "      <td>1033255852</td>\n",
       "      <td>6.435372e+13</td>\n",
       "      <td>771781.636293</td>\n",
       "      <td>1752.536054</td>\n",
       "      <td>...</td>\n",
       "      <td>79.990942</td>\n",
       "      <td>1.761579</td>\n",
       "      <td>48.697825</td>\n",
       "      <td>590</td>\n",
       "      <td>39</td>\n",
       "      <td>9752</td>\n",
       "      <td>974948</td>\n",
       "      <td>95.003547</td>\n",
       "      <td>0</td>\n",
       "      <td>1</td>\n",
       "    </tr>\n",
       "    <tr>\n",
       "      <th>2</th>\n",
       "      <td>Canada</td>\n",
       "      <td>2013</td>\n",
       "      <td>Biomass</td>\n",
       "      <td>94102.732038</td>\n",
       "      <td>6139.117212</td>\n",
       "      <td>6.158680e+09</td>\n",
       "      <td>14895124</td>\n",
       "      <td>1.567926e+14</td>\n",
       "      <td>342707.152899</td>\n",
       "      <td>65146.592498</td>\n",
       "      <td>...</td>\n",
       "      <td>94.374040</td>\n",
       "      <td>77.657334</td>\n",
       "      <td>67.334813</td>\n",
       "      <td>101</td>\n",
       "      <td>7</td>\n",
       "      <td>311</td>\n",
       "      <td>326318</td>\n",
       "      <td>67.354539</td>\n",
       "      <td>1</td>\n",
       "      <td>0</td>\n",
       "    </tr>\n",
       "    <tr>\n",
       "      <th>3</th>\n",
       "      <td>Japan</td>\n",
       "      <td>2010</td>\n",
       "      <td>Biomass</td>\n",
       "      <td>88771.932910</td>\n",
       "      <td>40323.639260</td>\n",
       "      <td>8.526116e+09</td>\n",
       "      <td>1448827283</td>\n",
       "      <td>1.350464e+14</td>\n",
       "      <td>498839.574253</td>\n",
       "      <td>50257.591014</td>\n",
       "      <td>...</td>\n",
       "      <td>65.143472</td>\n",
       "      <td>44.987734</td>\n",
       "      <td>4.544289</td>\n",
       "      <td>327</td>\n",
       "      <td>3</td>\n",
       "      <td>7708</td>\n",
       "      <td>506078</td>\n",
       "      <td>33.754104</td>\n",
       "      <td>0</td>\n",
       "      <td>0</td>\n",
       "    </tr>\n",
       "    <tr>\n",
       "      <th>4</th>\n",
       "      <td>China</td>\n",
       "      <td>2018</td>\n",
       "      <td>Solar</td>\n",
       "      <td>93288.408581</td>\n",
       "      <td>30755.403056</td>\n",
       "      <td>5.086237e+09</td>\n",
       "      <td>1499494307</td>\n",
       "      <td>8.677956e+13</td>\n",
       "      <td>819064.362785</td>\n",
       "      <td>63101.395562</td>\n",
       "      <td>...</td>\n",
       "      <td>86.213626</td>\n",
       "      <td>62.535223</td>\n",
       "      <td>10.287199</td>\n",
       "      <td>985</td>\n",
       "      <td>69</td>\n",
       "      <td>4919</td>\n",
       "      <td>187964</td>\n",
       "      <td>59.509228</td>\n",
       "      <td>1</td>\n",
       "      <td>0</td>\n",
       "    </tr>\n",
       "  </tbody>\n",
       "</table>\n",
       "<p>5 rows × 56 columns</p>\n",
       "</div>"
      ],
      "text/plain": [
       "     Country  Year Energy Type  Production (GWh)  Installed Capacity (MW)  \\\n",
       "0        USA  2011       Solar      85404.690027              5549.794323   \n",
       "1  Australia  2008  Geothermal      22205.069382             43211.593798   \n",
       "2     Canada  2013     Biomass      94102.732038              6139.117212   \n",
       "3      Japan  2010     Biomass      88771.932910             40323.639260   \n",
       "4      China  2018       Solar      93288.408581             30755.403056   \n",
       "\n",
       "   Investments (USD)  Population           GDP  Energy Consumption  \\\n",
       "0       5.604125e+09  1064007213  1.775278e+14       369654.644184   \n",
       "1       6.361886e+08  1033255852  6.435372e+13       771781.636293   \n",
       "2       6.158680e+09    14895124  1.567926e+14       342707.152899   \n",
       "3       8.526116e+09  1448827283  1.350464e+14       498839.574253   \n",
       "4       5.086237e+09  1499494307  8.677956e+13       819064.362785   \n",
       "\n",
       "   Energy Exports  ...  Economic Freedom Index  Ease of Doing Business  \\\n",
       "0    93087.198199  ...               49.216800               57.678605   \n",
       "1     1752.536054  ...               79.990942                1.761579   \n",
       "2    65146.592498  ...               94.374040               77.657334   \n",
       "3    50257.591014  ...               65.143472               44.987734   \n",
       "4    63101.395562  ...               86.213626               62.535223   \n",
       "\n",
       "   Innovation Index  Number of Research Institutions  \\\n",
       "0         76.803228                              851   \n",
       "1         48.697825                              590   \n",
       "2         67.334813                              101   \n",
       "3          4.544289                              327   \n",
       "4         10.287199                              985   \n",
       "\n",
       "   Number of Renewable Energy Conferences  \\\n",
       "0                                      75   \n",
       "1                                      39   \n",
       "2                                       7   \n",
       "3                                       3   \n",
       "4                                      69   \n",
       "\n",
       "   Number of Renewable Energy Publications  Energy Sector Workforce  \\\n",
       "0                                     6361                   511658   \n",
       "1                                     9752                   974948   \n",
       "2                                      311                   326318   \n",
       "3                                     7708                   506078   \n",
       "4                                     4919                   187964   \n",
       "\n",
       "   Proportion of Energy from Renewables  \\\n",
       "0                             25.907895   \n",
       "1                             95.003547   \n",
       "2                             67.354539   \n",
       "3                             33.754104   \n",
       "4                             59.509228   \n",
       "\n",
       "   Public-Private Partnerships in Energy  \\\n",
       "0                                      1   \n",
       "1                                      0   \n",
       "2                                      1   \n",
       "3                                      0   \n",
       "4                                      1   \n",
       "\n",
       "   Regional Renewable Energy Cooperation  \n",
       "0                                      0  \n",
       "1                                      1  \n",
       "2                                      0  \n",
       "3                                      0  \n",
       "4                                      0  \n",
       "\n",
       "[5 rows x 56 columns]"
      ]
     },
     "execution_count": 5,
     "metadata": {},
     "output_type": "execute_result"
    }
   ],
   "source": [
    "df.head()"
   ]
  },
  {
   "cell_type": "code",
   "execution_count": 6,
   "id": "6c88b6d1-5484-42c0-b149-8ebc10d71bfa",
   "metadata": {},
   "outputs": [
    {
     "data": {
      "text/plain": [
       "(2500, 56)"
      ]
     },
     "execution_count": 6,
     "metadata": {},
     "output_type": "execute_result"
    }
   ],
   "source": [
    "df.shape"
   ]
  },
  {
   "cell_type": "code",
   "execution_count": 7,
   "id": "a0f9af49-8703-4f05-8e27-7701025a537d",
   "metadata": {},
   "outputs": [
    {
     "data": {
      "text/plain": [
       "Country                                      10\n",
       "Year                                         24\n",
       "Energy Type                                   5\n",
       "Production (GWh)                           2500\n",
       "Installed Capacity (MW)                    2500\n",
       "Investments (USD)                          2500\n",
       "Population                                 2500\n",
       "GDP                                        2500\n",
       "Energy Consumption                         2500\n",
       "Energy Exports                             2500\n",
       "Energy Imports                             2500\n",
       "CO2 Emissions                              2500\n",
       "Renewable Energy Jobs                      2499\n",
       "Government Policies                           2\n",
       "R&D Expenditure                            2500\n",
       "Renewable Energy Targets                      2\n",
       "Average Annual Temperature                 2500\n",
       "Annual Rainfall                            2500\n",
       "Solar Irradiance                           2500\n",
       "Wind Speed                                 2500\n",
       "Hydro Potential                            2500\n",
       "Geothermal Potential                       2500\n",
       "Biomass Availability                       2500\n",
       "Energy Storage Capacity                    2500\n",
       "Grid Integration Capability                2500\n",
       "Electricity Prices                         2500\n",
       "Energy Subsidies                           2500\n",
       "International Aid for Renewables           2500\n",
       "Public Awareness                           2500\n",
       "Energy Efficiency Programs                    2\n",
       "Urbanization Rate                          2500\n",
       "Industrialization Rate                     2500\n",
       "Energy Market Liberalization                  2\n",
       "Renewable Energy Patents                    909\n",
       "Educational Level                          2500\n",
       "Technology Transfer Agreements                2\n",
       "Renewable Energy Education Programs           2\n",
       "Local Manufacturing Capacity               2500\n",
       "Import Tariffs on Energy Equipment         2500\n",
       "Export Incentives for Energy Equipment     2500\n",
       "Natural Disasters                             2\n",
       "Political Stability                        2500\n",
       "Corruption Perception Index                2500\n",
       "Regulatory Quality                         2500\n",
       "Rule of Law                                2500\n",
       "Control of Corruption                      2500\n",
       "Economic Freedom Index                     2500\n",
       "Ease of Doing Business                     2500\n",
       "Innovation Index                           2500\n",
       "Number of Research Institutions             917\n",
       "Number of Renewable Energy Conferences      100\n",
       "Number of Renewable Energy Publications    2219\n",
       "Energy Sector Workforce                    2497\n",
       "Proportion of Energy from Renewables       2500\n",
       "Public-Private Partnerships in Energy         2\n",
       "Regional Renewable Energy Cooperation         2\n",
       "dtype: int64"
      ]
     },
     "execution_count": 7,
     "metadata": {},
     "output_type": "execute_result"
    }
   ],
   "source": [
    "df.nunique()"
   ]
  },
  {
   "cell_type": "code",
   "execution_count": 8,
   "id": "46f021b6-5229-409c-a33a-3d94ae04f809",
   "metadata": {},
   "outputs": [
    {
     "data": {
      "text/plain": [
       "Country                                    0\n",
       "Year                                       0\n",
       "Energy Type                                0\n",
       "Production (GWh)                           0\n",
       "Installed Capacity (MW)                    0\n",
       "Investments (USD)                          0\n",
       "Population                                 0\n",
       "GDP                                        0\n",
       "Energy Consumption                         0\n",
       "Energy Exports                             0\n",
       "Energy Imports                             0\n",
       "CO2 Emissions                              0\n",
       "Renewable Energy Jobs                      0\n",
       "Government Policies                        0\n",
       "R&D Expenditure                            0\n",
       "Renewable Energy Targets                   0\n",
       "Average Annual Temperature                 0\n",
       "Annual Rainfall                            0\n",
       "Solar Irradiance                           0\n",
       "Wind Speed                                 0\n",
       "Hydro Potential                            0\n",
       "Geothermal Potential                       0\n",
       "Biomass Availability                       0\n",
       "Energy Storage Capacity                    0\n",
       "Grid Integration Capability                0\n",
       "Electricity Prices                         0\n",
       "Energy Subsidies                           0\n",
       "International Aid for Renewables           0\n",
       "Public Awareness                           0\n",
       "Energy Efficiency Programs                 0\n",
       "Urbanization Rate                          0\n",
       "Industrialization Rate                     0\n",
       "Energy Market Liberalization               0\n",
       "Renewable Energy Patents                   0\n",
       "Educational Level                          0\n",
       "Technology Transfer Agreements             0\n",
       "Renewable Energy Education Programs        0\n",
       "Local Manufacturing Capacity               0\n",
       "Import Tariffs on Energy Equipment         0\n",
       "Export Incentives for Energy Equipment     0\n",
       "Natural Disasters                          0\n",
       "Political Stability                        0\n",
       "Corruption Perception Index                0\n",
       "Regulatory Quality                         0\n",
       "Rule of Law                                0\n",
       "Control of Corruption                      0\n",
       "Economic Freedom Index                     0\n",
       "Ease of Doing Business                     0\n",
       "Innovation Index                           0\n",
       "Number of Research Institutions            0\n",
       "Number of Renewable Energy Conferences     0\n",
       "Number of Renewable Energy Publications    0\n",
       "Energy Sector Workforce                    0\n",
       "Proportion of Energy from Renewables       0\n",
       "Public-Private Partnerships in Energy      0\n",
       "Regional Renewable Energy Cooperation      0\n",
       "dtype: int64"
      ]
     },
     "execution_count": 8,
     "metadata": {},
     "output_type": "execute_result"
    }
   ],
   "source": [
    "df.isnull().sum()"
   ]
  },
  {
   "cell_type": "code",
   "execution_count": 9,
   "id": "8362ab3d-a6ba-4fef-a876-017b51eea7ed",
   "metadata": {},
   "outputs": [
    {
     "name": "stdout",
     "output_type": "stream",
     "text": [
      "<class 'pandas.core.frame.DataFrame'>\n",
      "RangeIndex: 2500 entries, 0 to 2499\n",
      "Data columns (total 56 columns):\n",
      " #   Column                                   Non-Null Count  Dtype  \n",
      "---  ------                                   --------------  -----  \n",
      " 0   Country                                  2500 non-null   object \n",
      " 1   Year                                     2500 non-null   int64  \n",
      " 2   Energy Type                              2500 non-null   object \n",
      " 3   Production (GWh)                         2500 non-null   float64\n",
      " 4   Installed Capacity (MW)                  2500 non-null   float64\n",
      " 5   Investments (USD)                        2500 non-null   float64\n",
      " 6   Population                               2500 non-null   int64  \n",
      " 7   GDP                                      2500 non-null   float64\n",
      " 8   Energy Consumption                       2500 non-null   float64\n",
      " 9   Energy Exports                           2500 non-null   float64\n",
      " 10  Energy Imports                           2500 non-null   float64\n",
      " 11  CO2 Emissions                            2500 non-null   float64\n",
      " 12  Renewable Energy Jobs                    2500 non-null   int64  \n",
      " 13  Government Policies                      2500 non-null   int64  \n",
      " 14  R&D Expenditure                          2500 non-null   float64\n",
      " 15  Renewable Energy Targets                 2500 non-null   int64  \n",
      " 16  Average Annual Temperature               2500 non-null   float64\n",
      " 17  Annual Rainfall                          2500 non-null   float64\n",
      " 18  Solar Irradiance                         2500 non-null   float64\n",
      " 19  Wind Speed                               2500 non-null   float64\n",
      " 20  Hydro Potential                          2500 non-null   float64\n",
      " 21  Geothermal Potential                     2500 non-null   float64\n",
      " 22  Biomass Availability                     2500 non-null   float64\n",
      " 23  Energy Storage Capacity                  2500 non-null   float64\n",
      " 24  Grid Integration Capability              2500 non-null   float64\n",
      " 25  Electricity Prices                       2500 non-null   float64\n",
      " 26  Energy Subsidies                         2500 non-null   float64\n",
      " 27  International Aid for Renewables         2500 non-null   float64\n",
      " 28  Public Awareness                         2500 non-null   float64\n",
      " 29  Energy Efficiency Programs               2500 non-null   int64  \n",
      " 30  Urbanization Rate                        2500 non-null   float64\n",
      " 31  Industrialization Rate                   2500 non-null   float64\n",
      " 32  Energy Market Liberalization             2500 non-null   int64  \n",
      " 33  Renewable Energy Patents                 2500 non-null   int64  \n",
      " 34  Educational Level                        2500 non-null   float64\n",
      " 35  Technology Transfer Agreements           2500 non-null   int64  \n",
      " 36  Renewable Energy Education Programs      2500 non-null   int64  \n",
      " 37  Local Manufacturing Capacity             2500 non-null   float64\n",
      " 38  Import Tariffs on Energy Equipment       2500 non-null   float64\n",
      " 39  Export Incentives for Energy Equipment   2500 non-null   float64\n",
      " 40  Natural Disasters                        2500 non-null   int64  \n",
      " 41  Political Stability                      2500 non-null   float64\n",
      " 42  Corruption Perception Index              2500 non-null   float64\n",
      " 43  Regulatory Quality                       2500 non-null   float64\n",
      " 44  Rule of Law                              2500 non-null   float64\n",
      " 45  Control of Corruption                    2500 non-null   float64\n",
      " 46  Economic Freedom Index                   2500 non-null   float64\n",
      " 47  Ease of Doing Business                   2500 non-null   float64\n",
      " 48  Innovation Index                         2500 non-null   float64\n",
      " 49  Number of Research Institutions          2500 non-null   int64  \n",
      " 50  Number of Renewable Energy Conferences   2500 non-null   int64  \n",
      " 51  Number of Renewable Energy Publications  2500 non-null   int64  \n",
      " 52  Energy Sector Workforce                  2500 non-null   int64  \n",
      " 53  Proportion of Energy from Renewables     2500 non-null   float64\n",
      " 54  Public-Private Partnerships in Energy    2500 non-null   int64  \n",
      " 55  Regional Renewable Energy Cooperation    2500 non-null   int64  \n",
      "dtypes: float64(37), int64(17), object(2)\n",
      "memory usage: 1.1+ MB\n"
     ]
    }
   ],
   "source": [
    "df.info()"
   ]
  },
  {
   "cell_type": "code",
   "execution_count": 10,
   "id": "8aaae7a4-e315-4464-9201-30304f00b049",
   "metadata": {},
   "outputs": [
    {
     "data": {
      "text/html": [
       "<div>\n",
       "<style scoped>\n",
       "    .dataframe tbody tr th:only-of-type {\n",
       "        vertical-align: middle;\n",
       "    }\n",
       "\n",
       "    .dataframe tbody tr th {\n",
       "        vertical-align: top;\n",
       "    }\n",
       "\n",
       "    .dataframe thead th {\n",
       "        text-align: right;\n",
       "    }\n",
       "</style>\n",
       "<table border=\"1\" class=\"dataframe\">\n",
       "  <thead>\n",
       "    <tr style=\"text-align: right;\">\n",
       "      <th></th>\n",
       "      <th>Country</th>\n",
       "      <th>Year</th>\n",
       "      <th>Energy Type</th>\n",
       "      <th>Production (GWh)</th>\n",
       "      <th>Installed Capacity (MW)</th>\n",
       "      <th>Investments (USD)</th>\n",
       "      <th>Population</th>\n",
       "      <th>GDP</th>\n",
       "      <th>Energy Consumption</th>\n",
       "      <th>Energy Exports</th>\n",
       "      <th>...</th>\n",
       "      <th>Economic Freedom Index</th>\n",
       "      <th>Ease of Doing Business</th>\n",
       "      <th>Innovation Index</th>\n",
       "      <th>Number of Research Institutions</th>\n",
       "      <th>Number of Renewable Energy Conferences</th>\n",
       "      <th>Number of Renewable Energy Publications</th>\n",
       "      <th>Energy Sector Workforce</th>\n",
       "      <th>Proportion of Energy from Renewables</th>\n",
       "      <th>Public-Private Partnerships in Energy</th>\n",
       "      <th>Regional Renewable Energy Cooperation</th>\n",
       "    </tr>\n",
       "  </thead>\n",
       "  <tbody>\n",
       "    <tr>\n",
       "      <th>2495</th>\n",
       "      <td>Japan</td>\n",
       "      <td>2023</td>\n",
       "      <td>Solar</td>\n",
       "      <td>40091.199325</td>\n",
       "      <td>46650.085012</td>\n",
       "      <td>5.589553e+09</td>\n",
       "      <td>819897975</td>\n",
       "      <td>1.110048e+14</td>\n",
       "      <td>574873.698448</td>\n",
       "      <td>57322.038062</td>\n",
       "      <td>...</td>\n",
       "      <td>57.159094</td>\n",
       "      <td>48.878098</td>\n",
       "      <td>60.276930</td>\n",
       "      <td>890</td>\n",
       "      <td>25</td>\n",
       "      <td>9992</td>\n",
       "      <td>883698</td>\n",
       "      <td>29.420472</td>\n",
       "      <td>1</td>\n",
       "      <td>0</td>\n",
       "    </tr>\n",
       "    <tr>\n",
       "      <th>2496</th>\n",
       "      <td>Australia</td>\n",
       "      <td>2017</td>\n",
       "      <td>Hydro</td>\n",
       "      <td>9454.189177</td>\n",
       "      <td>28506.752159</td>\n",
       "      <td>5.602669e+09</td>\n",
       "      <td>116522920</td>\n",
       "      <td>1.433965e+14</td>\n",
       "      <td>741594.182522</td>\n",
       "      <td>56635.966737</td>\n",
       "      <td>...</td>\n",
       "      <td>68.969915</td>\n",
       "      <td>85.799679</td>\n",
       "      <td>39.248237</td>\n",
       "      <td>898</td>\n",
       "      <td>77</td>\n",
       "      <td>6484</td>\n",
       "      <td>447626</td>\n",
       "      <td>73.280184</td>\n",
       "      <td>1</td>\n",
       "      <td>1</td>\n",
       "    </tr>\n",
       "    <tr>\n",
       "      <th>2497</th>\n",
       "      <td>India</td>\n",
       "      <td>2022</td>\n",
       "      <td>Geothermal</td>\n",
       "      <td>94329.590380</td>\n",
       "      <td>22757.496947</td>\n",
       "      <td>8.590460e+09</td>\n",
       "      <td>1409070574</td>\n",
       "      <td>5.582925e+13</td>\n",
       "      <td>922633.984945</td>\n",
       "      <td>85455.105274</td>\n",
       "      <td>...</td>\n",
       "      <td>32.759424</td>\n",
       "      <td>1.049568</td>\n",
       "      <td>51.281761</td>\n",
       "      <td>602</td>\n",
       "      <td>49</td>\n",
       "      <td>3535</td>\n",
       "      <td>535996</td>\n",
       "      <td>25.217499</td>\n",
       "      <td>0</td>\n",
       "      <td>1</td>\n",
       "    </tr>\n",
       "    <tr>\n",
       "      <th>2498</th>\n",
       "      <td>China</td>\n",
       "      <td>2000</td>\n",
       "      <td>Biomass</td>\n",
       "      <td>66206.311515</td>\n",
       "      <td>3530.005331</td>\n",
       "      <td>5.640793e+09</td>\n",
       "      <td>859850706</td>\n",
       "      <td>2.147667e+13</td>\n",
       "      <td>481213.409793</td>\n",
       "      <td>44933.818979</td>\n",
       "      <td>...</td>\n",
       "      <td>60.303422</td>\n",
       "      <td>29.261717</td>\n",
       "      <td>17.238731</td>\n",
       "      <td>520</td>\n",
       "      <td>46</td>\n",
       "      <td>249</td>\n",
       "      <td>21322</td>\n",
       "      <td>7.992712</td>\n",
       "      <td>1</td>\n",
       "      <td>0</td>\n",
       "    </tr>\n",
       "    <tr>\n",
       "      <th>2499</th>\n",
       "      <td>France</td>\n",
       "      <td>2010</td>\n",
       "      <td>Hydro</td>\n",
       "      <td>13035.595344</td>\n",
       "      <td>22890.620016</td>\n",
       "      <td>2.736650e+09</td>\n",
       "      <td>436771140</td>\n",
       "      <td>1.300406e+14</td>\n",
       "      <td>673214.512869</td>\n",
       "      <td>25024.616078</td>\n",
       "      <td>...</td>\n",
       "      <td>95.233329</td>\n",
       "      <td>17.336201</td>\n",
       "      <td>26.427988</td>\n",
       "      <td>245</td>\n",
       "      <td>18</td>\n",
       "      <td>389</td>\n",
       "      <td>493060</td>\n",
       "      <td>91.532474</td>\n",
       "      <td>0</td>\n",
       "      <td>0</td>\n",
       "    </tr>\n",
       "  </tbody>\n",
       "</table>\n",
       "<p>5 rows × 56 columns</p>\n",
       "</div>"
      ],
      "text/plain": [
       "        Country  Year Energy Type  Production (GWh)  Installed Capacity (MW)  \\\n",
       "2495      Japan  2023       Solar      40091.199325             46650.085012   \n",
       "2496  Australia  2017       Hydro       9454.189177             28506.752159   \n",
       "2497      India  2022  Geothermal      94329.590380             22757.496947   \n",
       "2498      China  2000     Biomass      66206.311515              3530.005331   \n",
       "2499     France  2010       Hydro      13035.595344             22890.620016   \n",
       "\n",
       "      Investments (USD)  Population           GDP  Energy Consumption  \\\n",
       "2495       5.589553e+09   819897975  1.110048e+14       574873.698448   \n",
       "2496       5.602669e+09   116522920  1.433965e+14       741594.182522   \n",
       "2497       8.590460e+09  1409070574  5.582925e+13       922633.984945   \n",
       "2498       5.640793e+09   859850706  2.147667e+13       481213.409793   \n",
       "2499       2.736650e+09   436771140  1.300406e+14       673214.512869   \n",
       "\n",
       "      Energy Exports  ...  Economic Freedom Index  Ease of Doing Business  \\\n",
       "2495    57322.038062  ...               57.159094               48.878098   \n",
       "2496    56635.966737  ...               68.969915               85.799679   \n",
       "2497    85455.105274  ...               32.759424                1.049568   \n",
       "2498    44933.818979  ...               60.303422               29.261717   \n",
       "2499    25024.616078  ...               95.233329               17.336201   \n",
       "\n",
       "      Innovation Index  Number of Research Institutions  \\\n",
       "2495         60.276930                              890   \n",
       "2496         39.248237                              898   \n",
       "2497         51.281761                              602   \n",
       "2498         17.238731                              520   \n",
       "2499         26.427988                              245   \n",
       "\n",
       "      Number of Renewable Energy Conferences  \\\n",
       "2495                                      25   \n",
       "2496                                      77   \n",
       "2497                                      49   \n",
       "2498                                      46   \n",
       "2499                                      18   \n",
       "\n",
       "      Number of Renewable Energy Publications  Energy Sector Workforce  \\\n",
       "2495                                     9992                   883698   \n",
       "2496                                     6484                   447626   \n",
       "2497                                     3535                   535996   \n",
       "2498                                      249                    21322   \n",
       "2499                                      389                   493060   \n",
       "\n",
       "      Proportion of Energy from Renewables  \\\n",
       "2495                             29.420472   \n",
       "2496                             73.280184   \n",
       "2497                             25.217499   \n",
       "2498                              7.992712   \n",
       "2499                             91.532474   \n",
       "\n",
       "      Public-Private Partnerships in Energy  \\\n",
       "2495                                      1   \n",
       "2496                                      1   \n",
       "2497                                      0   \n",
       "2498                                      1   \n",
       "2499                                      0   \n",
       "\n",
       "      Regional Renewable Energy Cooperation  \n",
       "2495                                      0  \n",
       "2496                                      1  \n",
       "2497                                      1  \n",
       "2498                                      0  \n",
       "2499                                      0  \n",
       "\n",
       "[5 rows x 56 columns]"
      ]
     },
     "execution_count": 10,
     "metadata": {},
     "output_type": "execute_result"
    }
   ],
   "source": [
    "df.tail()"
   ]
  },
  {
   "cell_type": "code",
   "execution_count": 11,
   "id": "5e8a9127-d19c-45e0-9484-1a499233e2a5",
   "metadata": {},
   "outputs": [
    {
     "data": {
      "text/html": [
       "<div>\n",
       "<style scoped>\n",
       "    .dataframe tbody tr th:only-of-type {\n",
       "        vertical-align: middle;\n",
       "    }\n",
       "\n",
       "    .dataframe tbody tr th {\n",
       "        vertical-align: top;\n",
       "    }\n",
       "\n",
       "    .dataframe thead th {\n",
       "        text-align: right;\n",
       "    }\n",
       "</style>\n",
       "<table border=\"1\" class=\"dataframe\">\n",
       "  <thead>\n",
       "    <tr style=\"text-align: right;\">\n",
       "      <th></th>\n",
       "      <th>Year</th>\n",
       "      <th>Production (GWh)</th>\n",
       "      <th>Installed Capacity (MW)</th>\n",
       "      <th>Investments (USD)</th>\n",
       "      <th>Population</th>\n",
       "      <th>GDP</th>\n",
       "      <th>Energy Consumption</th>\n",
       "      <th>Energy Exports</th>\n",
       "      <th>Energy Imports</th>\n",
       "      <th>CO2 Emissions</th>\n",
       "      <th>...</th>\n",
       "      <th>Economic Freedom Index</th>\n",
       "      <th>Ease of Doing Business</th>\n",
       "      <th>Innovation Index</th>\n",
       "      <th>Number of Research Institutions</th>\n",
       "      <th>Number of Renewable Energy Conferences</th>\n",
       "      <th>Number of Renewable Energy Publications</th>\n",
       "      <th>Energy Sector Workforce</th>\n",
       "      <th>Proportion of Energy from Renewables</th>\n",
       "      <th>Public-Private Partnerships in Energy</th>\n",
       "      <th>Regional Renewable Energy Cooperation</th>\n",
       "    </tr>\n",
       "  </thead>\n",
       "  <tbody>\n",
       "    <tr>\n",
       "      <th>count</th>\n",
       "      <td>2500.000000</td>\n",
       "      <td>2500.000000</td>\n",
       "      <td>2500.000000</td>\n",
       "      <td>2.500000e+03</td>\n",
       "      <td>2.500000e+03</td>\n",
       "      <td>2.500000e+03</td>\n",
       "      <td>2500.000000</td>\n",
       "      <td>2500.000000</td>\n",
       "      <td>2500.000000</td>\n",
       "      <td>2500.000000</td>\n",
       "      <td>...</td>\n",
       "      <td>2500.000000</td>\n",
       "      <td>2500.000000</td>\n",
       "      <td>2500.000000</td>\n",
       "      <td>2500.000000</td>\n",
       "      <td>2500.000000</td>\n",
       "      <td>2500.00000</td>\n",
       "      <td>2500.000000</td>\n",
       "      <td>2500.000000</td>\n",
       "      <td>2500.000000</td>\n",
       "      <td>2500.000000</td>\n",
       "    </tr>\n",
       "    <tr>\n",
       "      <th>mean</th>\n",
       "      <td>2011.437600</td>\n",
       "      <td>48743.195073</td>\n",
       "      <td>24882.910674</td>\n",
       "      <td>4.956155e+09</td>\n",
       "      <td>7.458927e+08</td>\n",
       "      <td>1.010745e+14</td>\n",
       "      <td>495701.245158</td>\n",
       "      <td>50143.392627</td>\n",
       "      <td>50800.373871</td>\n",
       "      <td>491218.412643</td>\n",
       "      <td>...</td>\n",
       "      <td>50.736720</td>\n",
       "      <td>48.442085</td>\n",
       "      <td>50.280019</td>\n",
       "      <td>496.660400</td>\n",
       "      <td>50.431200</td>\n",
       "      <td>4978.93360</td>\n",
       "      <td>502040.891200</td>\n",
       "      <td>49.749110</td>\n",
       "      <td>0.512000</td>\n",
       "      <td>0.473600</td>\n",
       "    </tr>\n",
       "    <tr>\n",
       "      <th>std</th>\n",
       "      <td>6.895471</td>\n",
       "      <td>28340.915147</td>\n",
       "      <td>14463.459958</td>\n",
       "      <td>2.894789e+09</td>\n",
       "      <td>4.373146e+08</td>\n",
       "      <td>5.782363e+13</td>\n",
       "      <td>291419.017957</td>\n",
       "      <td>28833.333066</td>\n",
       "      <td>28740.851763</td>\n",
       "      <td>289783.733338</td>\n",
       "      <td>...</td>\n",
       "      <td>28.623766</td>\n",
       "      <td>28.798216</td>\n",
       "      <td>28.719483</td>\n",
       "      <td>296.181011</td>\n",
       "      <td>28.877168</td>\n",
       "      <td>2881.93256</td>\n",
       "      <td>293084.636148</td>\n",
       "      <td>28.924307</td>\n",
       "      <td>0.499956</td>\n",
       "      <td>0.499402</td>\n",
       "    </tr>\n",
       "    <tr>\n",
       "      <th>min</th>\n",
       "      <td>2000.000000</td>\n",
       "      <td>1053.354158</td>\n",
       "      <td>114.531639</td>\n",
       "      <td>5.886994e+06</td>\n",
       "      <td>1.255357e+06</td>\n",
       "      <td>5.603965e+10</td>\n",
       "      <td>1264.851083</td>\n",
       "      <td>1036.618008</td>\n",
       "      <td>1057.783513</td>\n",
       "      <td>1124.768458</td>\n",
       "      <td>...</td>\n",
       "      <td>0.104915</td>\n",
       "      <td>0.025281</td>\n",
       "      <td>0.025733</td>\n",
       "      <td>0.000000</td>\n",
       "      <td>0.000000</td>\n",
       "      <td>3.00000</td>\n",
       "      <td>494.000000</td>\n",
       "      <td>0.033829</td>\n",
       "      <td>0.000000</td>\n",
       "      <td>0.000000</td>\n",
       "    </tr>\n",
       "    <tr>\n",
       "      <th>25%</th>\n",
       "      <td>2006.000000</td>\n",
       "      <td>24309.656479</td>\n",
       "      <td>12282.213159</td>\n",
       "      <td>2.473145e+09</td>\n",
       "      <td>3.720811e+08</td>\n",
       "      <td>5.049265e+13</td>\n",
       "      <td>237300.546551</td>\n",
       "      <td>25146.745295</td>\n",
       "      <td>26347.461047</td>\n",
       "      <td>242894.720511</td>\n",
       "      <td>...</td>\n",
       "      <td>26.241437</td>\n",
       "      <td>23.519814</td>\n",
       "      <td>25.934406</td>\n",
       "      <td>234.000000</td>\n",
       "      <td>26.000000</td>\n",
       "      <td>2532.00000</td>\n",
       "      <td>244438.000000</td>\n",
       "      <td>23.968451</td>\n",
       "      <td>0.000000</td>\n",
       "      <td>0.000000</td>\n",
       "    </tr>\n",
       "    <tr>\n",
       "      <th>50%</th>\n",
       "      <td>2011.000000</td>\n",
       "      <td>47367.117600</td>\n",
       "      <td>24689.162460</td>\n",
       "      <td>4.961772e+09</td>\n",
       "      <td>7.515190e+08</td>\n",
       "      <td>1.027006e+14</td>\n",
       "      <td>496118.165272</td>\n",
       "      <td>49706.656938</td>\n",
       "      <td>50698.800022</td>\n",
       "      <td>475721.007886</td>\n",
       "      <td>...</td>\n",
       "      <td>50.850766</td>\n",
       "      <td>48.127673</td>\n",
       "      <td>51.398964</td>\n",
       "      <td>493.000000</td>\n",
       "      <td>51.000000</td>\n",
       "      <td>4992.50000</td>\n",
       "      <td>499151.000000</td>\n",
       "      <td>50.232069</td>\n",
       "      <td>1.000000</td>\n",
       "      <td>0.000000</td>\n",
       "    </tr>\n",
       "    <tr>\n",
       "      <th>75%</th>\n",
       "      <td>2017.250000</td>\n",
       "      <td>73079.452832</td>\n",
       "      <td>37438.443570</td>\n",
       "      <td>7.418384e+09</td>\n",
       "      <td>1.118019e+09</td>\n",
       "      <td>1.519604e+14</td>\n",
       "      <td>753779.282813</td>\n",
       "      <td>75567.191515</td>\n",
       "      <td>75807.642495</td>\n",
       "      <td>747649.446362</td>\n",
       "      <td>...</td>\n",
       "      <td>74.908485</td>\n",
       "      <td>73.324825</td>\n",
       "      <td>74.724073</td>\n",
       "      <td>755.000000</td>\n",
       "      <td>76.000000</td>\n",
       "      <td>7465.00000</td>\n",
       "      <td>765088.000000</td>\n",
       "      <td>74.354781</td>\n",
       "      <td>1.000000</td>\n",
       "      <td>1.000000</td>\n",
       "    </tr>\n",
       "    <tr>\n",
       "      <th>max</th>\n",
       "      <td>2023.000000</td>\n",
       "      <td>99937.503719</td>\n",
       "      <td>49997.387577</td>\n",
       "      <td>9.998292e+09</td>\n",
       "      <td>1.499494e+09</td>\n",
       "      <td>1.999223e+14</td>\n",
       "      <td>999618.512172</td>\n",
       "      <td>99952.509817</td>\n",
       "      <td>99912.213813</td>\n",
       "      <td>999816.500175</td>\n",
       "      <td>...</td>\n",
       "      <td>99.970526</td>\n",
       "      <td>99.901347</td>\n",
       "      <td>99.998838</td>\n",
       "      <td>999.000000</td>\n",
       "      <td>99.000000</td>\n",
       "      <td>9999.00000</td>\n",
       "      <td>999226.000000</td>\n",
       "      <td>99.988355</td>\n",
       "      <td>1.000000</td>\n",
       "      <td>1.000000</td>\n",
       "    </tr>\n",
       "  </tbody>\n",
       "</table>\n",
       "<p>8 rows × 54 columns</p>\n",
       "</div>"
      ],
      "text/plain": [
       "              Year  Production (GWh)  Installed Capacity (MW)  \\\n",
       "count  2500.000000       2500.000000              2500.000000   \n",
       "mean   2011.437600      48743.195073             24882.910674   \n",
       "std       6.895471      28340.915147             14463.459958   \n",
       "min    2000.000000       1053.354158               114.531639   \n",
       "25%    2006.000000      24309.656479             12282.213159   \n",
       "50%    2011.000000      47367.117600             24689.162460   \n",
       "75%    2017.250000      73079.452832             37438.443570   \n",
       "max    2023.000000      99937.503719             49997.387577   \n",
       "\n",
       "       Investments (USD)    Population           GDP  Energy Consumption  \\\n",
       "count       2.500000e+03  2.500000e+03  2.500000e+03         2500.000000   \n",
       "mean        4.956155e+09  7.458927e+08  1.010745e+14       495701.245158   \n",
       "std         2.894789e+09  4.373146e+08  5.782363e+13       291419.017957   \n",
       "min         5.886994e+06  1.255357e+06  5.603965e+10         1264.851083   \n",
       "25%         2.473145e+09  3.720811e+08  5.049265e+13       237300.546551   \n",
       "50%         4.961772e+09  7.515190e+08  1.027006e+14       496118.165272   \n",
       "75%         7.418384e+09  1.118019e+09  1.519604e+14       753779.282813   \n",
       "max         9.998292e+09  1.499494e+09  1.999223e+14       999618.512172   \n",
       "\n",
       "       Energy Exports  Energy Imports  CO2 Emissions  ...  \\\n",
       "count     2500.000000     2500.000000    2500.000000  ...   \n",
       "mean     50143.392627    50800.373871  491218.412643  ...   \n",
       "std      28833.333066    28740.851763  289783.733338  ...   \n",
       "min       1036.618008     1057.783513    1124.768458  ...   \n",
       "25%      25146.745295    26347.461047  242894.720511  ...   \n",
       "50%      49706.656938    50698.800022  475721.007886  ...   \n",
       "75%      75567.191515    75807.642495  747649.446362  ...   \n",
       "max      99952.509817    99912.213813  999816.500175  ...   \n",
       "\n",
       "       Economic Freedom Index  Ease of Doing Business  Innovation Index  \\\n",
       "count             2500.000000             2500.000000       2500.000000   \n",
       "mean                50.736720               48.442085         50.280019   \n",
       "std                 28.623766               28.798216         28.719483   \n",
       "min                  0.104915                0.025281          0.025733   \n",
       "25%                 26.241437               23.519814         25.934406   \n",
       "50%                 50.850766               48.127673         51.398964   \n",
       "75%                 74.908485               73.324825         74.724073   \n",
       "max                 99.970526               99.901347         99.998838   \n",
       "\n",
       "       Number of Research Institutions  \\\n",
       "count                      2500.000000   \n",
       "mean                        496.660400   \n",
       "std                         296.181011   \n",
       "min                           0.000000   \n",
       "25%                         234.000000   \n",
       "50%                         493.000000   \n",
       "75%                         755.000000   \n",
       "max                         999.000000   \n",
       "\n",
       "       Number of Renewable Energy Conferences  \\\n",
       "count                             2500.000000   \n",
       "mean                                50.431200   \n",
       "std                                 28.877168   \n",
       "min                                  0.000000   \n",
       "25%                                 26.000000   \n",
       "50%                                 51.000000   \n",
       "75%                                 76.000000   \n",
       "max                                 99.000000   \n",
       "\n",
       "       Number of Renewable Energy Publications  Energy Sector Workforce  \\\n",
       "count                               2500.00000              2500.000000   \n",
       "mean                                4978.93360            502040.891200   \n",
       "std                                 2881.93256            293084.636148   \n",
       "min                                    3.00000               494.000000   \n",
       "25%                                 2532.00000            244438.000000   \n",
       "50%                                 4992.50000            499151.000000   \n",
       "75%                                 7465.00000            765088.000000   \n",
       "max                                 9999.00000            999226.000000   \n",
       "\n",
       "       Proportion of Energy from Renewables  \\\n",
       "count                           2500.000000   \n",
       "mean                              49.749110   \n",
       "std                               28.924307   \n",
       "min                                0.033829   \n",
       "25%                               23.968451   \n",
       "50%                               50.232069   \n",
       "75%                               74.354781   \n",
       "max                               99.988355   \n",
       "\n",
       "       Public-Private Partnerships in Energy  \\\n",
       "count                            2500.000000   \n",
       "mean                                0.512000   \n",
       "std                                 0.499956   \n",
       "min                                 0.000000   \n",
       "25%                                 0.000000   \n",
       "50%                                 1.000000   \n",
       "75%                                 1.000000   \n",
       "max                                 1.000000   \n",
       "\n",
       "       Regional Renewable Energy Cooperation  \n",
       "count                            2500.000000  \n",
       "mean                                0.473600  \n",
       "std                                 0.499402  \n",
       "min                                 0.000000  \n",
       "25%                                 0.000000  \n",
       "50%                                 0.000000  \n",
       "75%                                 1.000000  \n",
       "max                                 1.000000  \n",
       "\n",
       "[8 rows x 54 columns]"
      ]
     },
     "execution_count": 11,
     "metadata": {},
     "output_type": "execute_result"
    }
   ],
   "source": [
    "df.describe()"
   ]
  },
  {
   "cell_type": "code",
   "execution_count": 12,
   "id": "3b93dcef-ddf4-463e-be0f-d3c21a4e9bd1",
   "metadata": {},
   "outputs": [
    {
     "data": {
      "text/plain": [
       "Index(['Country', 'Year', 'Energy Type', 'Production (GWh)',\n",
       "       'Installed Capacity (MW)', 'Investments (USD)', 'Population', 'GDP',\n",
       "       'Energy Consumption', 'Energy Exports', 'Energy Imports',\n",
       "       'CO2 Emissions', 'Renewable Energy Jobs', 'Government Policies',\n",
       "       'R&D Expenditure', 'Renewable Energy Targets',\n",
       "       'Average Annual Temperature', 'Annual Rainfall', 'Solar Irradiance',\n",
       "       'Wind Speed', 'Hydro Potential', 'Geothermal Potential',\n",
       "       'Biomass Availability', 'Energy Storage Capacity',\n",
       "       'Grid Integration Capability', 'Electricity Prices', 'Energy Subsidies',\n",
       "       'International Aid for Renewables', 'Public Awareness',\n",
       "       'Energy Efficiency Programs', 'Urbanization Rate',\n",
       "       'Industrialization Rate', 'Energy Market Liberalization',\n",
       "       'Renewable Energy Patents', 'Educational Level',\n",
       "       'Technology Transfer Agreements', 'Renewable Energy Education Programs',\n",
       "       'Local Manufacturing Capacity', 'Import Tariffs on Energy Equipment',\n",
       "       'Export Incentives for Energy Equipment', 'Natural Disasters',\n",
       "       'Political Stability', 'Corruption Perception Index',\n",
       "       'Regulatory Quality', 'Rule of Law', 'Control of Corruption',\n",
       "       'Economic Freedom Index', 'Ease of Doing Business', 'Innovation Index',\n",
       "       'Number of Research Institutions',\n",
       "       'Number of Renewable Energy Conferences',\n",
       "       'Number of Renewable Energy Publications', 'Energy Sector Workforce',\n",
       "       'Proportion of Energy from Renewables',\n",
       "       'Public-Private Partnerships in Energy',\n",
       "       'Regional Renewable Energy Cooperation'],\n",
       "      dtype='object')"
      ]
     },
     "execution_count": 12,
     "metadata": {},
     "output_type": "execute_result"
    }
   ],
   "source": [
    "df.columns"
   ]
  },
  {
   "cell_type": "code",
   "execution_count": 13,
   "id": "dca250e5-c344-4cf6-9f9a-e57f285759d5",
   "metadata": {},
   "outputs": [
    {
     "data": {
      "text/plain": [
       "0"
      ]
     },
     "execution_count": 13,
     "metadata": {},
     "output_type": "execute_result"
    }
   ],
   "source": [
    "df.duplicated().sum() "
   ]
  },
  {
   "cell_type": "markdown",
   "id": "77cdecb1-2871-41ed-bc16-eecd5d67fe0a",
   "metadata": {},
   "source": [
    "### FINDING ENERGY CONSUMPTION:"
   ]
  },
  {
   "cell_type": "code",
   "execution_count": 43,
   "id": "6239b12c-9d28-4686-9393-e264bc02d6f9",
   "metadata": {},
   "outputs": [
    {
     "data": {
      "text/plain": [
       "495701.24515847093"
      ]
     },
     "execution_count": 43,
     "metadata": {},
     "output_type": "execute_result"
    }
   ],
   "source": [
    "df[\"Energy Consumption\"].mean()"
   ]
  },
  {
   "cell_type": "code",
   "execution_count": 44,
   "id": "c4756a35-6dd4-4a89-8c86-6b5cc9af3ca3",
   "metadata": {},
   "outputs": [
    {
     "data": {
      "text/plain": [
       "999618.5121723358"
      ]
     },
     "execution_count": 44,
     "metadata": {},
     "output_type": "execute_result"
    }
   ],
   "source": [
    "df[\"Energy Consumption\"].max()"
   ]
  },
  {
   "cell_type": "code",
   "execution_count": 41,
   "id": "da28a8d4-ef64-43c6-9cf7-49d0f47b48ea",
   "metadata": {},
   "outputs": [
    {
     "data": {
      "text/html": [
       "<div>\n",
       "<style scoped>\n",
       "    .dataframe tbody tr th:only-of-type {\n",
       "        vertical-align: middle;\n",
       "    }\n",
       "\n",
       "    .dataframe tbody tr th {\n",
       "        vertical-align: top;\n",
       "    }\n",
       "\n",
       "    .dataframe thead th {\n",
       "        text-align: right;\n",
       "    }\n",
       "</style>\n",
       "<table border=\"1\" class=\"dataframe\">\n",
       "  <thead>\n",
       "    <tr style=\"text-align: right;\">\n",
       "      <th></th>\n",
       "      <th>min</th>\n",
       "      <th>max</th>\n",
       "    </tr>\n",
       "    <tr>\n",
       "      <th>Country</th>\n",
       "      <th></th>\n",
       "      <th></th>\n",
       "    </tr>\n",
       "  </thead>\n",
       "  <tbody>\n",
       "    <tr>\n",
       "      <th>Australia</th>\n",
       "      <td>2820.563540</td>\n",
       "      <td>995085.995504</td>\n",
       "    </tr>\n",
       "    <tr>\n",
       "      <th>Brazil</th>\n",
       "      <td>3062.001649</td>\n",
       "      <td>999618.512172</td>\n",
       "    </tr>\n",
       "    <tr>\n",
       "      <th>Canada</th>\n",
       "      <td>3332.793636</td>\n",
       "      <td>989145.101539</td>\n",
       "    </tr>\n",
       "    <tr>\n",
       "      <th>China</th>\n",
       "      <td>1280.468631</td>\n",
       "      <td>995124.522996</td>\n",
       "    </tr>\n",
       "    <tr>\n",
       "      <th>France</th>\n",
       "      <td>7814.299996</td>\n",
       "      <td>999309.427690</td>\n",
       "    </tr>\n",
       "    <tr>\n",
       "      <th>Germany</th>\n",
       "      <td>5402.746334</td>\n",
       "      <td>997437.335661</td>\n",
       "    </tr>\n",
       "    <tr>\n",
       "      <th>India</th>\n",
       "      <td>9582.432887</td>\n",
       "      <td>995697.884188</td>\n",
       "    </tr>\n",
       "    <tr>\n",
       "      <th>Japan</th>\n",
       "      <td>29973.984117</td>\n",
       "      <td>996618.997351</td>\n",
       "    </tr>\n",
       "    <tr>\n",
       "      <th>Russia</th>\n",
       "      <td>9865.174549</td>\n",
       "      <td>999176.585654</td>\n",
       "    </tr>\n",
       "    <tr>\n",
       "      <th>USA</th>\n",
       "      <td>1264.851083</td>\n",
       "      <td>997714.897202</td>\n",
       "    </tr>\n",
       "  </tbody>\n",
       "</table>\n",
       "</div>"
      ],
      "text/plain": [
       "                    min            max\n",
       "Country                               \n",
       "Australia   2820.563540  995085.995504\n",
       "Brazil      3062.001649  999618.512172\n",
       "Canada      3332.793636  989145.101539\n",
       "China       1280.468631  995124.522996\n",
       "France      7814.299996  999309.427690\n",
       "Germany     5402.746334  997437.335661\n",
       "India       9582.432887  995697.884188\n",
       "Japan      29973.984117  996618.997351\n",
       "Russia      9865.174549  999176.585654\n",
       "USA         1264.851083  997714.897202"
      ]
     },
     "execution_count": 41,
     "metadata": {},
     "output_type": "execute_result"
    }
   ],
   "source": [
    "df.groupby(\"Country\")[\"Energy Consumption\"].agg([\"min\",\"max\"])"
   ]
  },
  {
   "cell_type": "code",
   "execution_count": 15,
   "id": "baae3434-ccc1-4743-a974-51e796c0a807",
   "metadata": {},
   "outputs": [
    {
     "data": {
      "text/html": [
       "<div>\n",
       "<style scoped>\n",
       "    .dataframe tbody tr th:only-of-type {\n",
       "        vertical-align: middle;\n",
       "    }\n",
       "\n",
       "    .dataframe tbody tr th {\n",
       "        vertical-align: top;\n",
       "    }\n",
       "\n",
       "    .dataframe thead th {\n",
       "        text-align: right;\n",
       "    }\n",
       "</style>\n",
       "<table border=\"1\" class=\"dataframe\">\n",
       "  <thead>\n",
       "    <tr style=\"text-align: right;\">\n",
       "      <th></th>\n",
       "      <th>min</th>\n",
       "      <th>max</th>\n",
       "    </tr>\n",
       "    <tr>\n",
       "      <th>Country</th>\n",
       "      <th></th>\n",
       "      <th></th>\n",
       "    </tr>\n",
       "  </thead>\n",
       "  <tbody>\n",
       "    <tr>\n",
       "      <th>Australia</th>\n",
       "      <td>1.283065e+08</td>\n",
       "      <td>9.983413e+09</td>\n",
       "    </tr>\n",
       "    <tr>\n",
       "      <th>Brazil</th>\n",
       "      <td>5.593225e+07</td>\n",
       "      <td>9.938620e+09</td>\n",
       "    </tr>\n",
       "    <tr>\n",
       "      <th>Canada</th>\n",
       "      <td>1.161737e+08</td>\n",
       "      <td>9.998292e+09</td>\n",
       "    </tr>\n",
       "    <tr>\n",
       "      <th>China</th>\n",
       "      <td>7.547243e+06</td>\n",
       "      <td>9.777638e+09</td>\n",
       "    </tr>\n",
       "    <tr>\n",
       "      <th>France</th>\n",
       "      <td>2.102090e+07</td>\n",
       "      <td>9.934769e+09</td>\n",
       "    </tr>\n",
       "    <tr>\n",
       "      <th>Germany</th>\n",
       "      <td>2.548367e+07</td>\n",
       "      <td>9.971493e+09</td>\n",
       "    </tr>\n",
       "    <tr>\n",
       "      <th>India</th>\n",
       "      <td>5.886994e+06</td>\n",
       "      <td>9.997387e+09</td>\n",
       "    </tr>\n",
       "    <tr>\n",
       "      <th>Japan</th>\n",
       "      <td>8.599417e+06</td>\n",
       "      <td>9.923731e+09</td>\n",
       "    </tr>\n",
       "    <tr>\n",
       "      <th>Russia</th>\n",
       "      <td>1.426345e+07</td>\n",
       "      <td>9.958982e+09</td>\n",
       "    </tr>\n",
       "    <tr>\n",
       "      <th>USA</th>\n",
       "      <td>6.415525e+07</td>\n",
       "      <td>9.984612e+09</td>\n",
       "    </tr>\n",
       "  </tbody>\n",
       "</table>\n",
       "</div>"
      ],
      "text/plain": [
       "                    min           max\n",
       "Country                              \n",
       "Australia  1.283065e+08  9.983413e+09\n",
       "Brazil     5.593225e+07  9.938620e+09\n",
       "Canada     1.161737e+08  9.998292e+09\n",
       "China      7.547243e+06  9.777638e+09\n",
       "France     2.102090e+07  9.934769e+09\n",
       "Germany    2.548367e+07  9.971493e+09\n",
       "India      5.886994e+06  9.997387e+09\n",
       "Japan      8.599417e+06  9.923731e+09\n",
       "Russia     1.426345e+07  9.958982e+09\n",
       "USA        6.415525e+07  9.984612e+09"
      ]
     },
     "execution_count": 15,
     "metadata": {},
     "output_type": "execute_result"
    }
   ],
   "source": [
    "df.groupby(\"Country\")[\"Investments (USD)\"].agg([\"min\",\"max\"])"
   ]
  },
  {
   "cell_type": "markdown",
   "id": "cb6934b3-4f76-49f3-9862-72601c3a65d9",
   "metadata": {},
   "source": [
    "### THERE ARE 10 COUNTRIES:"
   ]
  },
  {
   "cell_type": "code",
   "execution_count": 16,
   "id": "ded9dace-9be4-4217-a15c-ebdef0dad325",
   "metadata": {},
   "outputs": [
    {
     "data": {
      "text/plain": [
       "array(['USA', 'Australia', 'Canada', 'Japan', 'China', 'India', 'Germany',\n",
       "       'France', 'Brazil', 'Russia'], dtype=object)"
      ]
     },
     "execution_count": 16,
     "metadata": {},
     "output_type": "execute_result"
    }
   ],
   "source": [
    "df[\"Country\"].unique()"
   ]
  },
  {
   "cell_type": "markdown",
   "id": "731f5f70-d4bf-4efb-8aaa-50dae7748f4f",
   "metadata": {},
   "source": [
    "### ENERGY TYPES ARE:"
   ]
  },
  {
   "cell_type": "code",
   "execution_count": 17,
   "id": "120e36a8-9376-4695-bf3f-a17beb392bc0",
   "metadata": {},
   "outputs": [
    {
     "data": {
      "text/plain": [
       "array(['Solar', 'Geothermal', 'Biomass', 'Wind', 'Hydro'], dtype=object)"
      ]
     },
     "execution_count": 17,
     "metadata": {},
     "output_type": "execute_result"
    }
   ],
   "source": [
    "df[\"Energy Type\"].unique()"
   ]
  },
  {
   "cell_type": "markdown",
   "id": "89d72af3-c7d9-48c6-a192-50493d59bb9c",
   "metadata": {},
   "source": [
    "### YEARS COVERED IN THE DATA SET:"
   ]
  },
  {
   "cell_type": "code",
   "execution_count": 18,
   "id": "0724f398-6fc5-4f04-93a5-192daf003159",
   "metadata": {},
   "outputs": [
    {
     "data": {
      "text/plain": [
       "array([2011, 2008, 2013, 2010, 2018, 2014, 2016, 2015, 2002, 2020, 2003,\n",
       "       2004, 2019, 2007, 2023, 2021, 2005, 2022, 2001, 2017, 2006, 2009,\n",
       "       2012, 2000], dtype=int64)"
      ]
     },
     "execution_count": 18,
     "metadata": {},
     "output_type": "execute_result"
    }
   ],
   "source": [
    "df[\"Year\"].unique()"
   ]
  },
  {
   "cell_type": "code",
   "execution_count": 20,
   "id": "7a76083f-f55a-4d34-a20a-25aed1988dbb",
   "metadata": {},
   "outputs": [
    {
     "data": {
      "text/plain": [
       "array([1064007213, 1033255852,   14895124, ..., 1409070574,  859850706,\n",
       "        436771140], dtype=int64)"
      ]
     },
     "execution_count": 20,
     "metadata": {},
     "output_type": "execute_result"
    }
   ],
   "source": [
    "df[\"Population\"].unique()"
   ]
  },
  {
   "cell_type": "code",
   "execution_count": 21,
   "id": "d04d7128-0325-4e35-b2b1-0fb692a82bb3",
   "metadata": {},
   "outputs": [
    {
     "data": {
      "text/plain": [
       "1255357"
      ]
     },
     "execution_count": 21,
     "metadata": {},
     "output_type": "execute_result"
    }
   ],
   "source": [
    "df[\"Population\"].min()"
   ]
  },
  {
   "cell_type": "code",
   "execution_count": 23,
   "id": "5798d23a-b990-461a-a614-a104f4e8b84d",
   "metadata": {},
   "outputs": [
    {
     "data": {
      "text/plain": [
       "745892698.7132"
      ]
     },
     "execution_count": 23,
     "metadata": {},
     "output_type": "execute_result"
    }
   ],
   "source": [
    "df[\"Population\"].mean()"
   ]
  },
  {
   "cell_type": "code",
   "execution_count": 24,
   "id": "0df0b76e-24af-4eef-b14f-6c206d3b90cd",
   "metadata": {},
   "outputs": [
    {
     "data": {
      "text/plain": [
       "1499494307"
      ]
     },
     "execution_count": 24,
     "metadata": {},
     "output_type": "execute_result"
    }
   ],
   "source": [
    "df[\"Population\"].max()"
   ]
  },
  {
   "cell_type": "markdown",
   "id": "5547ec51-6ef8-4253-819b-afbc4b7cf2fd",
   "metadata": {},
   "source": [
    "### GROSS DOMESTIC PRODUTCS:"
   ]
  },
  {
   "cell_type": "code",
   "execution_count": 25,
   "id": "103e26e8-c2a9-4637-84fa-f323f986ec85",
   "metadata": {},
   "outputs": [
    {
     "data": {
      "text/plain": [
       "56039654636.28522"
      ]
     },
     "execution_count": 25,
     "metadata": {},
     "output_type": "execute_result"
    }
   ],
   "source": [
    "df[\"GDP\"].min()"
   ]
  },
  {
   "cell_type": "code",
   "execution_count": 26,
   "id": "90c47716-58e9-4069-b7c1-9393f62969ab",
   "metadata": {},
   "outputs": [
    {
     "data": {
      "text/plain": [
       "101074492308510.48"
      ]
     },
     "execution_count": 26,
     "metadata": {},
     "output_type": "execute_result"
    }
   ],
   "source": [
    "df[\"GDP\"].mean()"
   ]
  },
  {
   "cell_type": "code",
   "execution_count": 27,
   "id": "e740b698-0842-410e-b304-499db2888b2e",
   "metadata": {},
   "outputs": [
    {
     "data": {
      "text/plain": [
       "199922253361572.9"
      ]
     },
     "execution_count": 27,
     "metadata": {},
     "output_type": "execute_result"
    }
   ],
   "source": [
    "df[\"GDP\"].max()"
   ]
  },
  {
   "cell_type": "markdown",
   "id": "b6592285-a46b-4cba-b893-69b8013e3cdd",
   "metadata": {},
   "source": [
    "### OVERALL INVESTMENTS:"
   ]
  },
  {
   "cell_type": "code",
   "execution_count": 28,
   "id": "c721f64a-ce4a-46eb-bc89-32b8f55f3759",
   "metadata": {},
   "outputs": [
    {
     "data": {
      "text/plain": [
       "4956154669.619653"
      ]
     },
     "execution_count": 28,
     "metadata": {},
     "output_type": "execute_result"
    }
   ],
   "source": [
    "df[\"Investments (USD)\"].mean()"
   ]
  },
  {
   "cell_type": "code",
   "execution_count": 29,
   "id": "311911c7-3fc2-4cad-a33e-4db77cbe8ddb",
   "metadata": {},
   "outputs": [
    {
     "data": {
      "text/plain": [
       "9998292119.068796"
      ]
     },
     "execution_count": 29,
     "metadata": {},
     "output_type": "execute_result"
    }
   ],
   "source": [
    "df[\"Investments (USD)\"].max()"
   ]
  },
  {
   "cell_type": "code",
   "execution_count": 23,
   "id": "cad0c9dd-1323-4575-805b-be1082272571",
   "metadata": {},
   "outputs": [
    {
     "data": {
      "text/html": [
       "<div>\n",
       "<style scoped>\n",
       "    .dataframe tbody tr th:only-of-type {\n",
       "        vertical-align: middle;\n",
       "    }\n",
       "\n",
       "    .dataframe tbody tr th {\n",
       "        vertical-align: top;\n",
       "    }\n",
       "\n",
       "    .dataframe thead th {\n",
       "        text-align: right;\n",
       "    }\n",
       "</style>\n",
       "<table border=\"1\" class=\"dataframe\">\n",
       "  <thead>\n",
       "    <tr style=\"text-align: right;\">\n",
       "      <th></th>\n",
       "      <th>min</th>\n",
       "      <th>max</th>\n",
       "    </tr>\n",
       "    <tr>\n",
       "      <th>Country</th>\n",
       "      <th></th>\n",
       "      <th></th>\n",
       "    </tr>\n",
       "  </thead>\n",
       "  <tbody>\n",
       "    <tr>\n",
       "      <th>Australia</th>\n",
       "      <td>1389.694771</td>\n",
       "      <td>99506.486387</td>\n",
       "    </tr>\n",
       "    <tr>\n",
       "      <th>Brazil</th>\n",
       "      <td>1087.245594</td>\n",
       "      <td>99861.150675</td>\n",
       "    </tr>\n",
       "    <tr>\n",
       "      <th>Canada</th>\n",
       "      <td>1212.800729</td>\n",
       "      <td>99925.061256</td>\n",
       "    </tr>\n",
       "    <tr>\n",
       "      <th>China</th>\n",
       "      <td>1058.755207</td>\n",
       "      <td>99917.751794</td>\n",
       "    </tr>\n",
       "    <tr>\n",
       "      <th>France</th>\n",
       "      <td>1072.712469</td>\n",
       "      <td>99702.813407</td>\n",
       "    </tr>\n",
       "    <tr>\n",
       "      <th>Germany</th>\n",
       "      <td>1100.559119</td>\n",
       "      <td>99645.580635</td>\n",
       "    </tr>\n",
       "    <tr>\n",
       "      <th>India</th>\n",
       "      <td>1053.354158</td>\n",
       "      <td>99696.606403</td>\n",
       "    </tr>\n",
       "    <tr>\n",
       "      <th>Japan</th>\n",
       "      <td>1388.108627</td>\n",
       "      <td>99937.503719</td>\n",
       "    </tr>\n",
       "    <tr>\n",
       "      <th>Russia</th>\n",
       "      <td>1069.333382</td>\n",
       "      <td>99570.533428</td>\n",
       "    </tr>\n",
       "    <tr>\n",
       "      <th>USA</th>\n",
       "      <td>1893.957534</td>\n",
       "      <td>99685.264705</td>\n",
       "    </tr>\n",
       "  </tbody>\n",
       "</table>\n",
       "</div>"
      ],
      "text/plain": [
       "                   min           max\n",
       "Country                             \n",
       "Australia  1389.694771  99506.486387\n",
       "Brazil     1087.245594  99861.150675\n",
       "Canada     1212.800729  99925.061256\n",
       "China      1058.755207  99917.751794\n",
       "France     1072.712469  99702.813407\n",
       "Germany    1100.559119  99645.580635\n",
       "India      1053.354158  99696.606403\n",
       "Japan      1388.108627  99937.503719\n",
       "Russia     1069.333382  99570.533428\n",
       "USA        1893.957534  99685.264705"
      ]
     },
     "execution_count": 23,
     "metadata": {},
     "output_type": "execute_result"
    }
   ],
   "source": [
    "df.groupby(\"Country\")[\"Production (GWh)\"].agg([\"min\",\"max\"])"
   ]
  },
  {
   "cell_type": "markdown",
   "id": "404113f8-5505-44db-bc23-59968cdda392",
   "metadata": {},
   "source": [
    "### FINDING THE RANGE OF CO2 EMISSIONS:"
   ]
  },
  {
   "cell_type": "code",
   "execution_count": 32,
   "id": "cc755e35-39c7-425c-983c-f2c73731a221",
   "metadata": {},
   "outputs": [
    {
     "data": {
      "text/plain": [
       "491218.41264301434"
      ]
     },
     "execution_count": 32,
     "metadata": {},
     "output_type": "execute_result"
    }
   ],
   "source": [
    "df[\"CO2 Emissions\"].mean()"
   ]
  },
  {
   "cell_type": "code",
   "execution_count": 33,
   "id": "e98046e2-aec3-4614-930c-3d4aaa727234",
   "metadata": {},
   "outputs": [
    {
     "data": {
      "text/plain": [
       "999816.5001754436"
      ]
     },
     "execution_count": 33,
     "metadata": {},
     "output_type": "execute_result"
    }
   ],
   "source": [
    "df[\"CO2 Emissions\"].max()"
   ]
  },
  {
   "cell_type": "code",
   "execution_count": 31,
   "id": "2fc66ce4-7f27-4054-a018-a4b1e0d98c19",
   "metadata": {},
   "outputs": [
    {
     "data": {
      "text/html": [
       "<div>\n",
       "<style scoped>\n",
       "    .dataframe tbody tr th:only-of-type {\n",
       "        vertical-align: middle;\n",
       "    }\n",
       "\n",
       "    .dataframe tbody tr th {\n",
       "        vertical-align: top;\n",
       "    }\n",
       "\n",
       "    .dataframe thead th {\n",
       "        text-align: right;\n",
       "    }\n",
       "</style>\n",
       "<table border=\"1\" class=\"dataframe\">\n",
       "  <thead>\n",
       "    <tr style=\"text-align: right;\">\n",
       "      <th></th>\n",
       "      <th>min</th>\n",
       "      <th>max</th>\n",
       "    </tr>\n",
       "    <tr>\n",
       "      <th>Country</th>\n",
       "      <th></th>\n",
       "      <th></th>\n",
       "    </tr>\n",
       "  </thead>\n",
       "  <tbody>\n",
       "    <tr>\n",
       "      <th>Australia</th>\n",
       "      <td>3851.733511</td>\n",
       "      <td>997991.781882</td>\n",
       "    </tr>\n",
       "    <tr>\n",
       "      <th>Brazil</th>\n",
       "      <td>8287.009701</td>\n",
       "      <td>998758.161983</td>\n",
       "    </tr>\n",
       "    <tr>\n",
       "      <th>Canada</th>\n",
       "      <td>3616.759556</td>\n",
       "      <td>996523.086396</td>\n",
       "    </tr>\n",
       "    <tr>\n",
       "      <th>China</th>\n",
       "      <td>4870.059947</td>\n",
       "      <td>994594.862012</td>\n",
       "    </tr>\n",
       "    <tr>\n",
       "      <th>France</th>\n",
       "      <td>6476.744358</td>\n",
       "      <td>999816.500175</td>\n",
       "    </tr>\n",
       "    <tr>\n",
       "      <th>Germany</th>\n",
       "      <td>8171.608303</td>\n",
       "      <td>992198.505889</td>\n",
       "    </tr>\n",
       "    <tr>\n",
       "      <th>India</th>\n",
       "      <td>1124.768458</td>\n",
       "      <td>996777.580773</td>\n",
       "    </tr>\n",
       "    <tr>\n",
       "      <th>Japan</th>\n",
       "      <td>1550.814882</td>\n",
       "      <td>998357.496452</td>\n",
       "    </tr>\n",
       "    <tr>\n",
       "      <th>Russia</th>\n",
       "      <td>2010.413548</td>\n",
       "      <td>999390.496094</td>\n",
       "    </tr>\n",
       "    <tr>\n",
       "      <th>USA</th>\n",
       "      <td>8161.076850</td>\n",
       "      <td>988439.475270</td>\n",
       "    </tr>\n",
       "  </tbody>\n",
       "</table>\n",
       "</div>"
      ],
      "text/plain": [
       "                   min            max\n",
       "Country                              \n",
       "Australia  3851.733511  997991.781882\n",
       "Brazil     8287.009701  998758.161983\n",
       "Canada     3616.759556  996523.086396\n",
       "China      4870.059947  994594.862012\n",
       "France     6476.744358  999816.500175\n",
       "Germany    8171.608303  992198.505889\n",
       "India      1124.768458  996777.580773\n",
       "Japan      1550.814882  998357.496452\n",
       "Russia     2010.413548  999390.496094\n",
       "USA        8161.076850  988439.475270"
      ]
     },
     "execution_count": 31,
     "metadata": {},
     "output_type": "execute_result"
    }
   ],
   "source": [
    "df.groupby(\"Country\")[\"CO2 Emissions\"].agg([\"min\",\"max\"])"
   ]
  },
  {
   "cell_type": "markdown",
   "id": "7da42dc5-c6a6-491c-b225-aefb6e5daebd",
   "metadata": {},
   "source": [
    "### FINDING THE PROPOTION OF ENERGY FROM THE RENEWABLES:"
   ]
  },
  {
   "cell_type": "code",
   "execution_count": 36,
   "id": "fb8615e1-e3ca-43fd-8702-502c30811a47",
   "metadata": {},
   "outputs": [
    {
     "data": {
      "text/plain": [
       "49.74911017589651"
      ]
     },
     "execution_count": 36,
     "metadata": {},
     "output_type": "execute_result"
    }
   ],
   "source": [
    "df[\"Proportion of Energy from Renewables\"].mean()"
   ]
  },
  {
   "cell_type": "code",
   "execution_count": 37,
   "id": "4195e693-ad6c-4efe-a481-705f75e5bb81",
   "metadata": {},
   "outputs": [
    {
     "data": {
      "text/plain": [
       "99.98835544994488"
      ]
     },
     "execution_count": 37,
     "metadata": {},
     "output_type": "execute_result"
    }
   ],
   "source": [
    "df[\"Proportion of Energy from Renewables\"].max()"
   ]
  },
  {
   "cell_type": "code",
   "execution_count": 38,
   "id": "269075ba-23f4-4788-bf25-75319bf4dc03",
   "metadata": {},
   "outputs": [
    {
     "data": {
      "text/html": [
       "<div>\n",
       "<style scoped>\n",
       "    .dataframe tbody tr th:only-of-type {\n",
       "        vertical-align: middle;\n",
       "    }\n",
       "\n",
       "    .dataframe tbody tr th {\n",
       "        vertical-align: top;\n",
       "    }\n",
       "\n",
       "    .dataframe thead th {\n",
       "        text-align: right;\n",
       "    }\n",
       "</style>\n",
       "<table border=\"1\" class=\"dataframe\">\n",
       "  <thead>\n",
       "    <tr style=\"text-align: right;\">\n",
       "      <th></th>\n",
       "      <th>min</th>\n",
       "      <th>max</th>\n",
       "    </tr>\n",
       "    <tr>\n",
       "      <th>Country</th>\n",
       "      <th></th>\n",
       "      <th></th>\n",
       "    </tr>\n",
       "  </thead>\n",
       "  <tbody>\n",
       "    <tr>\n",
       "      <th>Australia</th>\n",
       "      <td>0.558961</td>\n",
       "      <td>98.539492</td>\n",
       "    </tr>\n",
       "    <tr>\n",
       "      <th>Brazil</th>\n",
       "      <td>1.276058</td>\n",
       "      <td>99.631687</td>\n",
       "    </tr>\n",
       "    <tr>\n",
       "      <th>Canada</th>\n",
       "      <td>1.873826</td>\n",
       "      <td>99.982138</td>\n",
       "    </tr>\n",
       "    <tr>\n",
       "      <th>China</th>\n",
       "      <td>0.087205</td>\n",
       "      <td>99.987317</td>\n",
       "    </tr>\n",
       "    <tr>\n",
       "      <th>France</th>\n",
       "      <td>0.033829</td>\n",
       "      <td>99.832730</td>\n",
       "    </tr>\n",
       "    <tr>\n",
       "      <th>Germany</th>\n",
       "      <td>0.110933</td>\n",
       "      <td>99.957927</td>\n",
       "    </tr>\n",
       "    <tr>\n",
       "      <th>India</th>\n",
       "      <td>0.339346</td>\n",
       "      <td>99.044414</td>\n",
       "    </tr>\n",
       "    <tr>\n",
       "      <th>Japan</th>\n",
       "      <td>1.013654</td>\n",
       "      <td>99.988355</td>\n",
       "    </tr>\n",
       "    <tr>\n",
       "      <th>Russia</th>\n",
       "      <td>0.433663</td>\n",
       "      <td>99.476637</td>\n",
       "    </tr>\n",
       "    <tr>\n",
       "      <th>USA</th>\n",
       "      <td>0.080002</td>\n",
       "      <td>98.721598</td>\n",
       "    </tr>\n",
       "  </tbody>\n",
       "</table>\n",
       "</div>"
      ],
      "text/plain": [
       "                min        max\n",
       "Country                       \n",
       "Australia  0.558961  98.539492\n",
       "Brazil     1.276058  99.631687\n",
       "Canada     1.873826  99.982138\n",
       "China      0.087205  99.987317\n",
       "France     0.033829  99.832730\n",
       "Germany    0.110933  99.957927\n",
       "India      0.339346  99.044414\n",
       "Japan      1.013654  99.988355\n",
       "Russia     0.433663  99.476637\n",
       "USA        0.080002  98.721598"
      ]
     },
     "execution_count": 38,
     "metadata": {},
     "output_type": "execute_result"
    }
   ],
   "source": [
    "df.groupby(\"Country\")[\"Proportion of Energy from Renewables\"].agg([\"min\",\"max\"])"
   ]
  },
  {
   "cell_type": "code",
   "execution_count": 24,
   "id": "81fde7d6-48fc-4d57-b8a0-08569f1ef7d5",
   "metadata": {},
   "outputs": [
    {
     "data": {
      "text/html": [
       "<div>\n",
       "<style scoped>\n",
       "    .dataframe tbody tr th:only-of-type {\n",
       "        vertical-align: middle;\n",
       "    }\n",
       "\n",
       "    .dataframe tbody tr th {\n",
       "        vertical-align: top;\n",
       "    }\n",
       "\n",
       "    .dataframe thead th {\n",
       "        text-align: right;\n",
       "    }\n",
       "</style>\n",
       "<table border=\"1\" class=\"dataframe\">\n",
       "  <thead>\n",
       "    <tr style=\"text-align: right;\">\n",
       "      <th></th>\n",
       "      <th>min</th>\n",
       "      <th>max</th>\n",
       "    </tr>\n",
       "    <tr>\n",
       "      <th>Year</th>\n",
       "      <th></th>\n",
       "      <th></th>\n",
       "    </tr>\n",
       "  </thead>\n",
       "  <tbody>\n",
       "    <tr>\n",
       "      <th>2000</th>\n",
       "      <td>1704.884432</td>\n",
       "      <td>96020.059009</td>\n",
       "    </tr>\n",
       "    <tr>\n",
       "      <th>2001</th>\n",
       "      <td>2224.502655</td>\n",
       "      <td>97798.243293</td>\n",
       "    </tr>\n",
       "    <tr>\n",
       "      <th>2002</th>\n",
       "      <td>1791.623405</td>\n",
       "      <td>97323.334366</td>\n",
       "    </tr>\n",
       "    <tr>\n",
       "      <th>2003</th>\n",
       "      <td>2599.123517</td>\n",
       "      <td>99506.486387</td>\n",
       "    </tr>\n",
       "    <tr>\n",
       "      <th>2004</th>\n",
       "      <td>1100.559119</td>\n",
       "      <td>99685.264705</td>\n",
       "    </tr>\n",
       "    <tr>\n",
       "      <th>2005</th>\n",
       "      <td>2951.138612</td>\n",
       "      <td>97840.395975</td>\n",
       "    </tr>\n",
       "    <tr>\n",
       "      <th>2006</th>\n",
       "      <td>1893.957534</td>\n",
       "      <td>98170.330522</td>\n",
       "    </tr>\n",
       "    <tr>\n",
       "      <th>2007</th>\n",
       "      <td>3356.551171</td>\n",
       "      <td>99473.163292</td>\n",
       "    </tr>\n",
       "    <tr>\n",
       "      <th>2008</th>\n",
       "      <td>1072.712469</td>\n",
       "      <td>99570.533428</td>\n",
       "    </tr>\n",
       "    <tr>\n",
       "      <th>2009</th>\n",
       "      <td>1087.245594</td>\n",
       "      <td>99012.909816</td>\n",
       "    </tr>\n",
       "    <tr>\n",
       "      <th>2010</th>\n",
       "      <td>1069.333382</td>\n",
       "      <td>99917.751794</td>\n",
       "    </tr>\n",
       "    <tr>\n",
       "      <th>2011</th>\n",
       "      <td>1058.755207</td>\n",
       "      <td>99702.813407</td>\n",
       "    </tr>\n",
       "    <tr>\n",
       "      <th>2012</th>\n",
       "      <td>1789.222324</td>\n",
       "      <td>99925.061256</td>\n",
       "    </tr>\n",
       "    <tr>\n",
       "      <th>2013</th>\n",
       "      <td>1577.986802</td>\n",
       "      <td>99313.351110</td>\n",
       "    </tr>\n",
       "    <tr>\n",
       "      <th>2014</th>\n",
       "      <td>1389.694771</td>\n",
       "      <td>99937.503719</td>\n",
       "    </tr>\n",
       "    <tr>\n",
       "      <th>2015</th>\n",
       "      <td>2352.440159</td>\n",
       "      <td>98235.835044</td>\n",
       "    </tr>\n",
       "    <tr>\n",
       "      <th>2016</th>\n",
       "      <td>1330.577607</td>\n",
       "      <td>99468.625050</td>\n",
       "    </tr>\n",
       "    <tr>\n",
       "      <th>2017</th>\n",
       "      <td>1643.901168</td>\n",
       "      <td>99861.150675</td>\n",
       "    </tr>\n",
       "    <tr>\n",
       "      <th>2018</th>\n",
       "      <td>1212.800729</td>\n",
       "      <td>99625.174849</td>\n",
       "    </tr>\n",
       "    <tr>\n",
       "      <th>2019</th>\n",
       "      <td>1543.596814</td>\n",
       "      <td>99128.307144</td>\n",
       "    </tr>\n",
       "    <tr>\n",
       "      <th>2020</th>\n",
       "      <td>1895.822595</td>\n",
       "      <td>99645.580635</td>\n",
       "    </tr>\n",
       "    <tr>\n",
       "      <th>2021</th>\n",
       "      <td>3057.857000</td>\n",
       "      <td>99502.366873</td>\n",
       "    </tr>\n",
       "    <tr>\n",
       "      <th>2022</th>\n",
       "      <td>1053.354158</td>\n",
       "      <td>99171.153720</td>\n",
       "    </tr>\n",
       "    <tr>\n",
       "      <th>2023</th>\n",
       "      <td>2074.031285</td>\n",
       "      <td>99702.738272</td>\n",
       "    </tr>\n",
       "  </tbody>\n",
       "</table>\n",
       "</div>"
      ],
      "text/plain": [
       "              min           max\n",
       "Year                           \n",
       "2000  1704.884432  96020.059009\n",
       "2001  2224.502655  97798.243293\n",
       "2002  1791.623405  97323.334366\n",
       "2003  2599.123517  99506.486387\n",
       "2004  1100.559119  99685.264705\n",
       "2005  2951.138612  97840.395975\n",
       "2006  1893.957534  98170.330522\n",
       "2007  3356.551171  99473.163292\n",
       "2008  1072.712469  99570.533428\n",
       "2009  1087.245594  99012.909816\n",
       "2010  1069.333382  99917.751794\n",
       "2011  1058.755207  99702.813407\n",
       "2012  1789.222324  99925.061256\n",
       "2013  1577.986802  99313.351110\n",
       "2014  1389.694771  99937.503719\n",
       "2015  2352.440159  98235.835044\n",
       "2016  1330.577607  99468.625050\n",
       "2017  1643.901168  99861.150675\n",
       "2018  1212.800729  99625.174849\n",
       "2019  1543.596814  99128.307144\n",
       "2020  1895.822595  99645.580635\n",
       "2021  3057.857000  99502.366873\n",
       "2022  1053.354158  99171.153720\n",
       "2023  2074.031285  99702.738272"
      ]
     },
     "execution_count": 24,
     "metadata": {},
     "output_type": "execute_result"
    }
   ],
   "source": [
    "df.groupby(\"Year\")[\"Production (GWh)\"].agg([\"min\",\"max\"])"
   ]
  },
  {
   "cell_type": "markdown",
   "id": "accbff96-4bc0-4418-880e-5eeda3537428",
   "metadata": {},
   "source": [
    "### SETTING YEAR AS INDEX:"
   ]
  },
  {
   "cell_type": "code",
   "execution_count": 25,
   "id": "e9d35ac7-231f-46d4-8f1d-e2eb60f57249",
   "metadata": {},
   "outputs": [],
   "source": [
    "df1=df.set_index(\"Year\",inplace=True)"
   ]
  },
  {
   "cell_type": "code",
   "execution_count": 26,
   "id": "91d8ed88-5938-4040-a43e-c94ea657ddf4",
   "metadata": {},
   "outputs": [],
   "source": [
    "df.sort_index(inplace=True)"
   ]
  },
  {
   "cell_type": "code",
   "execution_count": 27,
   "id": "1e785794-8f9a-4e0b-b5cd-4c626182f176",
   "metadata": {},
   "outputs": [
    {
     "data": {
      "text/html": [
       "<div>\n",
       "<style scoped>\n",
       "    .dataframe tbody tr th:only-of-type {\n",
       "        vertical-align: middle;\n",
       "    }\n",
       "\n",
       "    .dataframe tbody tr th {\n",
       "        vertical-align: top;\n",
       "    }\n",
       "\n",
       "    .dataframe thead th {\n",
       "        text-align: right;\n",
       "    }\n",
       "</style>\n",
       "<table border=\"1\" class=\"dataframe\">\n",
       "  <thead>\n",
       "    <tr style=\"text-align: right;\">\n",
       "      <th></th>\n",
       "      <th>Country</th>\n",
       "      <th>Energy Type</th>\n",
       "      <th>Production (GWh)</th>\n",
       "      <th>Installed Capacity (MW)</th>\n",
       "      <th>Investments (USD)</th>\n",
       "      <th>Population</th>\n",
       "      <th>GDP</th>\n",
       "      <th>Energy Consumption</th>\n",
       "      <th>Energy Exports</th>\n",
       "      <th>Energy Imports</th>\n",
       "      <th>...</th>\n",
       "      <th>Economic Freedom Index</th>\n",
       "      <th>Ease of Doing Business</th>\n",
       "      <th>Innovation Index</th>\n",
       "      <th>Number of Research Institutions</th>\n",
       "      <th>Number of Renewable Energy Conferences</th>\n",
       "      <th>Number of Renewable Energy Publications</th>\n",
       "      <th>Energy Sector Workforce</th>\n",
       "      <th>Proportion of Energy from Renewables</th>\n",
       "      <th>Public-Private Partnerships in Energy</th>\n",
       "      <th>Regional Renewable Energy Cooperation</th>\n",
       "    </tr>\n",
       "    <tr>\n",
       "      <th>Year</th>\n",
       "      <th></th>\n",
       "      <th></th>\n",
       "      <th></th>\n",
       "      <th></th>\n",
       "      <th></th>\n",
       "      <th></th>\n",
       "      <th></th>\n",
       "      <th></th>\n",
       "      <th></th>\n",
       "      <th></th>\n",
       "      <th></th>\n",
       "      <th></th>\n",
       "      <th></th>\n",
       "      <th></th>\n",
       "      <th></th>\n",
       "      <th></th>\n",
       "      <th></th>\n",
       "      <th></th>\n",
       "      <th></th>\n",
       "      <th></th>\n",
       "      <th></th>\n",
       "    </tr>\n",
       "  </thead>\n",
       "  <tbody>\n",
       "    <tr>\n",
       "      <th>2000</th>\n",
       "      <td>France</td>\n",
       "      <td>Hydro</td>\n",
       "      <td>96020.059009</td>\n",
       "      <td>15753.900468</td>\n",
       "      <td>8.220034e+09</td>\n",
       "      <td>681771061</td>\n",
       "      <td>1.397678e+14</td>\n",
       "      <td>371029.194284</td>\n",
       "      <td>4597.607447</td>\n",
       "      <td>83124.133293</td>\n",
       "      <td>...</td>\n",
       "      <td>95.950670</td>\n",
       "      <td>61.773211</td>\n",
       "      <td>19.660961</td>\n",
       "      <td>892</td>\n",
       "      <td>39</td>\n",
       "      <td>5792</td>\n",
       "      <td>830612</td>\n",
       "      <td>1.437724</td>\n",
       "      <td>1</td>\n",
       "      <td>1</td>\n",
       "    </tr>\n",
       "    <tr>\n",
       "      <th>2000</th>\n",
       "      <td>USA</td>\n",
       "      <td>Geothermal</td>\n",
       "      <td>8563.797739</td>\n",
       "      <td>44580.626037</td>\n",
       "      <td>9.570726e+09</td>\n",
       "      <td>59302243</td>\n",
       "      <td>3.075785e+13</td>\n",
       "      <td>802885.163791</td>\n",
       "      <td>56966.129867</td>\n",
       "      <td>91338.209916</td>\n",
       "      <td>...</td>\n",
       "      <td>22.864223</td>\n",
       "      <td>16.572887</td>\n",
       "      <td>89.124589</td>\n",
       "      <td>422</td>\n",
       "      <td>14</td>\n",
       "      <td>8795</td>\n",
       "      <td>247557</td>\n",
       "      <td>20.829330</td>\n",
       "      <td>0</td>\n",
       "      <td>1</td>\n",
       "    </tr>\n",
       "    <tr>\n",
       "      <th>2000</th>\n",
       "      <td>China</td>\n",
       "      <td>Hydro</td>\n",
       "      <td>54708.432751</td>\n",
       "      <td>49464.097353</td>\n",
       "      <td>1.837748e+09</td>\n",
       "      <td>624858918</td>\n",
       "      <td>8.172407e+13</td>\n",
       "      <td>39272.465513</td>\n",
       "      <td>11955.785450</td>\n",
       "      <td>23694.373065</td>\n",
       "      <td>...</td>\n",
       "      <td>47.143658</td>\n",
       "      <td>36.780563</td>\n",
       "      <td>35.392641</td>\n",
       "      <td>297</td>\n",
       "      <td>81</td>\n",
       "      <td>7883</td>\n",
       "      <td>835630</td>\n",
       "      <td>64.216341</td>\n",
       "      <td>1</td>\n",
       "      <td>1</td>\n",
       "    </tr>\n",
       "    <tr>\n",
       "      <th>2000</th>\n",
       "      <td>Canada</td>\n",
       "      <td>Geothermal</td>\n",
       "      <td>80109.605258</td>\n",
       "      <td>42945.773172</td>\n",
       "      <td>8.243155e+09</td>\n",
       "      <td>769663802</td>\n",
       "      <td>1.408086e+14</td>\n",
       "      <td>202003.723306</td>\n",
       "      <td>93506.562470</td>\n",
       "      <td>60037.782889</td>\n",
       "      <td>...</td>\n",
       "      <td>93.877576</td>\n",
       "      <td>98.265398</td>\n",
       "      <td>44.294233</td>\n",
       "      <td>290</td>\n",
       "      <td>31</td>\n",
       "      <td>5673</td>\n",
       "      <td>621173</td>\n",
       "      <td>48.034134</td>\n",
       "      <td>1</td>\n",
       "      <td>0</td>\n",
       "    </tr>\n",
       "    <tr>\n",
       "      <th>2000</th>\n",
       "      <td>France</td>\n",
       "      <td>Wind</td>\n",
       "      <td>62018.825649</td>\n",
       "      <td>42437.267447</td>\n",
       "      <td>7.129150e+09</td>\n",
       "      <td>869125182</td>\n",
       "      <td>3.605770e+13</td>\n",
       "      <td>104394.366013</td>\n",
       "      <td>18950.077331</td>\n",
       "      <td>27896.014231</td>\n",
       "      <td>...</td>\n",
       "      <td>30.821004</td>\n",
       "      <td>30.271093</td>\n",
       "      <td>45.027314</td>\n",
       "      <td>487</td>\n",
       "      <td>59</td>\n",
       "      <td>494</td>\n",
       "      <td>164307</td>\n",
       "      <td>81.980484</td>\n",
       "      <td>1</td>\n",
       "      <td>1</td>\n",
       "    </tr>\n",
       "  </tbody>\n",
       "</table>\n",
       "<p>5 rows × 55 columns</p>\n",
       "</div>"
      ],
      "text/plain": [
       "     Country Energy Type  Production (GWh)  Installed Capacity (MW)  \\\n",
       "Year                                                                  \n",
       "2000  France       Hydro      96020.059009             15753.900468   \n",
       "2000     USA  Geothermal       8563.797739             44580.626037   \n",
       "2000   China       Hydro      54708.432751             49464.097353   \n",
       "2000  Canada  Geothermal      80109.605258             42945.773172   \n",
       "2000  France        Wind      62018.825649             42437.267447   \n",
       "\n",
       "      Investments (USD)  Population           GDP  Energy Consumption  \\\n",
       "Year                                                                    \n",
       "2000       8.220034e+09   681771061  1.397678e+14       371029.194284   \n",
       "2000       9.570726e+09    59302243  3.075785e+13       802885.163791   \n",
       "2000       1.837748e+09   624858918  8.172407e+13        39272.465513   \n",
       "2000       8.243155e+09   769663802  1.408086e+14       202003.723306   \n",
       "2000       7.129150e+09   869125182  3.605770e+13       104394.366013   \n",
       "\n",
       "      Energy Exports  Energy Imports  ...  Economic Freedom Index  \\\n",
       "Year                                  ...                           \n",
       "2000     4597.607447    83124.133293  ...               95.950670   \n",
       "2000    56966.129867    91338.209916  ...               22.864223   \n",
       "2000    11955.785450    23694.373065  ...               47.143658   \n",
       "2000    93506.562470    60037.782889  ...               93.877576   \n",
       "2000    18950.077331    27896.014231  ...               30.821004   \n",
       "\n",
       "      Ease of Doing Business  Innovation Index  \\\n",
       "Year                                             \n",
       "2000               61.773211         19.660961   \n",
       "2000               16.572887         89.124589   \n",
       "2000               36.780563         35.392641   \n",
       "2000               98.265398         44.294233   \n",
       "2000               30.271093         45.027314   \n",
       "\n",
       "      Number of Research Institutions  Number of Renewable Energy Conferences  \\\n",
       "Year                                                                            \n",
       "2000                              892                                      39   \n",
       "2000                              422                                      14   \n",
       "2000                              297                                      81   \n",
       "2000                              290                                      31   \n",
       "2000                              487                                      59   \n",
       "\n",
       "      Number of Renewable Energy Publications  Energy Sector Workforce  \\\n",
       "Year                                                                     \n",
       "2000                                     5792                   830612   \n",
       "2000                                     8795                   247557   \n",
       "2000                                     7883                   835630   \n",
       "2000                                     5673                   621173   \n",
       "2000                                      494                   164307   \n",
       "\n",
       "      Proportion of Energy from Renewables  \\\n",
       "Year                                         \n",
       "2000                              1.437724   \n",
       "2000                             20.829330   \n",
       "2000                             64.216341   \n",
       "2000                             48.034134   \n",
       "2000                             81.980484   \n",
       "\n",
       "      Public-Private Partnerships in Energy  \\\n",
       "Year                                          \n",
       "2000                                      1   \n",
       "2000                                      0   \n",
       "2000                                      1   \n",
       "2000                                      1   \n",
       "2000                                      1   \n",
       "\n",
       "      Regional Renewable Energy Cooperation  \n",
       "Year                                         \n",
       "2000                                      1  \n",
       "2000                                      1  \n",
       "2000                                      1  \n",
       "2000                                      0  \n",
       "2000                                      1  \n",
       "\n",
       "[5 rows x 55 columns]"
      ]
     },
     "execution_count": 27,
     "metadata": {},
     "output_type": "execute_result"
    }
   ],
   "source": [
    "df.head()"
   ]
  },
  {
   "cell_type": "code",
   "execution_count": 28,
   "id": "9894fcc7-b18d-4ba3-9a7c-c461a3f44eb9",
   "metadata": {},
   "outputs": [
    {
     "data": {
      "text/html": [
       "<div>\n",
       "<style scoped>\n",
       "    .dataframe tbody tr th:only-of-type {\n",
       "        vertical-align: middle;\n",
       "    }\n",
       "\n",
       "    .dataframe tbody tr th {\n",
       "        vertical-align: top;\n",
       "    }\n",
       "\n",
       "    .dataframe thead th {\n",
       "        text-align: right;\n",
       "    }\n",
       "</style>\n",
       "<table border=\"1\" class=\"dataframe\">\n",
       "  <thead>\n",
       "    <tr style=\"text-align: right;\">\n",
       "      <th></th>\n",
       "      <th></th>\n",
       "      <th>min</th>\n",
       "      <th>max</th>\n",
       "    </tr>\n",
       "    <tr>\n",
       "      <th>Country</th>\n",
       "      <th>Year</th>\n",
       "      <th></th>\n",
       "      <th></th>\n",
       "    </tr>\n",
       "  </thead>\n",
       "  <tbody>\n",
       "    <tr>\n",
       "      <th rowspan=\"5\" valign=\"top\">Australia</th>\n",
       "      <th>2000</th>\n",
       "      <td>2.342960e+13</td>\n",
       "      <td>1.967440e+14</td>\n",
       "    </tr>\n",
       "    <tr>\n",
       "      <th>2001</th>\n",
       "      <td>1.907809e+13</td>\n",
       "      <td>1.749808e+14</td>\n",
       "    </tr>\n",
       "    <tr>\n",
       "      <th>2002</th>\n",
       "      <td>2.410001e+13</td>\n",
       "      <td>1.659921e+14</td>\n",
       "    </tr>\n",
       "    <tr>\n",
       "      <th>2003</th>\n",
       "      <td>3.414754e+12</td>\n",
       "      <td>1.888198e+14</td>\n",
       "    </tr>\n",
       "    <tr>\n",
       "      <th>2004</th>\n",
       "      <td>1.263353e+13</td>\n",
       "      <td>1.937980e+14</td>\n",
       "    </tr>\n",
       "    <tr>\n",
       "      <th>...</th>\n",
       "      <th>...</th>\n",
       "      <td>...</td>\n",
       "      <td>...</td>\n",
       "    </tr>\n",
       "    <tr>\n",
       "      <th rowspan=\"5\" valign=\"top\">USA</th>\n",
       "      <th>2019</th>\n",
       "      <td>3.711463e+11</td>\n",
       "      <td>1.856081e+14</td>\n",
       "    </tr>\n",
       "    <tr>\n",
       "      <th>2020</th>\n",
       "      <td>9.565271e+12</td>\n",
       "      <td>1.983184e+14</td>\n",
       "    </tr>\n",
       "    <tr>\n",
       "      <th>2021</th>\n",
       "      <td>1.051421e+13</td>\n",
       "      <td>1.868326e+14</td>\n",
       "    </tr>\n",
       "    <tr>\n",
       "      <th>2022</th>\n",
       "      <td>8.146670e+12</td>\n",
       "      <td>1.767641e+14</td>\n",
       "    </tr>\n",
       "    <tr>\n",
       "      <th>2023</th>\n",
       "      <td>6.978116e+11</td>\n",
       "      <td>1.836594e+14</td>\n",
       "    </tr>\n",
       "  </tbody>\n",
       "</table>\n",
       "<p>240 rows × 2 columns</p>\n",
       "</div>"
      ],
      "text/plain": [
       "                         min           max\n",
       "Country   Year                            \n",
       "Australia 2000  2.342960e+13  1.967440e+14\n",
       "          2001  1.907809e+13  1.749808e+14\n",
       "          2002  2.410001e+13  1.659921e+14\n",
       "          2003  3.414754e+12  1.888198e+14\n",
       "          2004  1.263353e+13  1.937980e+14\n",
       "...                      ...           ...\n",
       "USA       2019  3.711463e+11  1.856081e+14\n",
       "          2020  9.565271e+12  1.983184e+14\n",
       "          2021  1.051421e+13  1.868326e+14\n",
       "          2022  8.146670e+12  1.767641e+14\n",
       "          2023  6.978116e+11  1.836594e+14\n",
       "\n",
       "[240 rows x 2 columns]"
      ]
     },
     "execution_count": 28,
     "metadata": {},
     "output_type": "execute_result"
    }
   ],
   "source": [
    "df.groupby([\"Country\",\"Year\"])[\"GDP\"].agg([\"min\",\"max\"])"
   ]
  },
  {
   "cell_type": "code",
   "execution_count": 29,
   "id": "13a9a6bf-5c53-456f-b6a1-761b198ed18a",
   "metadata": {},
   "outputs": [
    {
     "data": {
      "text/plain": [
       "Country\n",
       "Australia    170697917022\n",
       "Brazil       186131786816\n",
       "Canada       174188903607\n",
       "China        185160853649\n",
       "France       217692886440\n",
       "Germany      182003507751\n",
       "India        191259579253\n",
       "Japan        204149507338\n",
       "Russia       185938720807\n",
       "USA          167508084100\n",
       "Name: Population, dtype: int64"
      ]
     },
     "execution_count": 29,
     "metadata": {},
     "output_type": "execute_result"
    }
   ],
   "source": [
    "df.groupby(\"Country\")[\"Population\"].sum()"
   ]
  },
  {
   "cell_type": "code",
   "execution_count": 31,
   "id": "c5c46695-7e69-4aaf-a1e8-4643471ec483",
   "metadata": {},
   "outputs": [
    {
     "data": {
      "text/html": [
       "<div>\n",
       "<style scoped>\n",
       "    .dataframe tbody tr th:only-of-type {\n",
       "        vertical-align: middle;\n",
       "    }\n",
       "\n",
       "    .dataframe tbody tr th {\n",
       "        vertical-align: top;\n",
       "    }\n",
       "\n",
       "    .dataframe thead th {\n",
       "        text-align: right;\n",
       "    }\n",
       "</style>\n",
       "<table border=\"1\" class=\"dataframe\">\n",
       "  <thead>\n",
       "    <tr style=\"text-align: right;\">\n",
       "      <th></th>\n",
       "      <th>min</th>\n",
       "      <th>max</th>\n",
       "    </tr>\n",
       "    <tr>\n",
       "      <th>Country</th>\n",
       "      <th></th>\n",
       "      <th></th>\n",
       "    </tr>\n",
       "  </thead>\n",
       "  <tbody>\n",
       "    <tr>\n",
       "      <th>Australia</th>\n",
       "      <td>1220.851092</td>\n",
       "      <td>99470.620790</td>\n",
       "    </tr>\n",
       "    <tr>\n",
       "      <th>Brazil</th>\n",
       "      <td>1397.736999</td>\n",
       "      <td>99651.270866</td>\n",
       "    </tr>\n",
       "    <tr>\n",
       "      <th>Canada</th>\n",
       "      <td>1142.180873</td>\n",
       "      <td>99802.638296</td>\n",
       "    </tr>\n",
       "    <tr>\n",
       "      <th>China</th>\n",
       "      <td>1447.045369</td>\n",
       "      <td>99952.509817</td>\n",
       "    </tr>\n",
       "    <tr>\n",
       "      <th>France</th>\n",
       "      <td>1346.237043</td>\n",
       "      <td>99893.597890</td>\n",
       "    </tr>\n",
       "    <tr>\n",
       "      <th>Germany</th>\n",
       "      <td>1899.565967</td>\n",
       "      <td>99616.832354</td>\n",
       "    </tr>\n",
       "    <tr>\n",
       "      <th>India</th>\n",
       "      <td>1237.432064</td>\n",
       "      <td>99652.651099</td>\n",
       "    </tr>\n",
       "    <tr>\n",
       "      <th>Japan</th>\n",
       "      <td>1305.115983</td>\n",
       "      <td>99720.875430</td>\n",
       "    </tr>\n",
       "    <tr>\n",
       "      <th>Russia</th>\n",
       "      <td>1440.669659</td>\n",
       "      <td>99670.897745</td>\n",
       "    </tr>\n",
       "    <tr>\n",
       "      <th>USA</th>\n",
       "      <td>1036.618008</td>\n",
       "      <td>99496.347591</td>\n",
       "    </tr>\n",
       "  </tbody>\n",
       "</table>\n",
       "</div>"
      ],
      "text/plain": [
       "                   min           max\n",
       "Country                             \n",
       "Australia  1220.851092  99470.620790\n",
       "Brazil     1397.736999  99651.270866\n",
       "Canada     1142.180873  99802.638296\n",
       "China      1447.045369  99952.509817\n",
       "France     1346.237043  99893.597890\n",
       "Germany    1899.565967  99616.832354\n",
       "India      1237.432064  99652.651099\n",
       "Japan      1305.115983  99720.875430\n",
       "Russia     1440.669659  99670.897745\n",
       "USA        1036.618008  99496.347591"
      ]
     },
     "execution_count": 31,
     "metadata": {},
     "output_type": "execute_result"
    }
   ],
   "source": [
    "df.groupby(\"Country\")[\"Energy Exports\"].agg([\"min\",\"max\"])"
   ]
  },
  {
   "cell_type": "code",
   "execution_count": 32,
   "id": "78865cf2-1ed3-4685-b316-4c0d8a4456d2",
   "metadata": {},
   "outputs": [
    {
     "data": {
      "text/html": [
       "<div>\n",
       "<style scoped>\n",
       "    .dataframe tbody tr th:only-of-type {\n",
       "        vertical-align: middle;\n",
       "    }\n",
       "\n",
       "    .dataframe tbody tr th {\n",
       "        vertical-align: top;\n",
       "    }\n",
       "\n",
       "    .dataframe thead th {\n",
       "        text-align: right;\n",
       "    }\n",
       "</style>\n",
       "<table border=\"1\" class=\"dataframe\">\n",
       "  <thead>\n",
       "    <tr style=\"text-align: right;\">\n",
       "      <th></th>\n",
       "      <th>min</th>\n",
       "      <th>max</th>\n",
       "    </tr>\n",
       "    <tr>\n",
       "      <th>Country</th>\n",
       "      <th></th>\n",
       "      <th></th>\n",
       "    </tr>\n",
       "  </thead>\n",
       "  <tbody>\n",
       "    <tr>\n",
       "      <th>Australia</th>\n",
       "      <td>1993.224054</td>\n",
       "      <td>99695.211183</td>\n",
       "    </tr>\n",
       "    <tr>\n",
       "      <th>Brazil</th>\n",
       "      <td>1256.703770</td>\n",
       "      <td>99508.138400</td>\n",
       "    </tr>\n",
       "    <tr>\n",
       "      <th>Canada</th>\n",
       "      <td>1057.783513</td>\n",
       "      <td>98489.602453</td>\n",
       "    </tr>\n",
       "    <tr>\n",
       "      <th>China</th>\n",
       "      <td>1057.913176</td>\n",
       "      <td>99558.092933</td>\n",
       "    </tr>\n",
       "    <tr>\n",
       "      <th>France</th>\n",
       "      <td>1176.429256</td>\n",
       "      <td>99899.968232</td>\n",
       "    </tr>\n",
       "    <tr>\n",
       "      <th>Germany</th>\n",
       "      <td>1303.772181</td>\n",
       "      <td>98960.348053</td>\n",
       "    </tr>\n",
       "    <tr>\n",
       "      <th>India</th>\n",
       "      <td>1375.996162</td>\n",
       "      <td>99912.213813</td>\n",
       "    </tr>\n",
       "    <tr>\n",
       "      <th>Japan</th>\n",
       "      <td>2162.793743</td>\n",
       "      <td>99512.739326</td>\n",
       "    </tr>\n",
       "    <tr>\n",
       "      <th>Russia</th>\n",
       "      <td>1178.602132</td>\n",
       "      <td>99649.410150</td>\n",
       "    </tr>\n",
       "    <tr>\n",
       "      <th>USA</th>\n",
       "      <td>2968.533112</td>\n",
       "      <td>99646.455526</td>\n",
       "    </tr>\n",
       "  </tbody>\n",
       "</table>\n",
       "</div>"
      ],
      "text/plain": [
       "                   min           max\n",
       "Country                             \n",
       "Australia  1993.224054  99695.211183\n",
       "Brazil     1256.703770  99508.138400\n",
       "Canada     1057.783513  98489.602453\n",
       "China      1057.913176  99558.092933\n",
       "France     1176.429256  99899.968232\n",
       "Germany    1303.772181  98960.348053\n",
       "India      1375.996162  99912.213813\n",
       "Japan      2162.793743  99512.739326\n",
       "Russia     1178.602132  99649.410150\n",
       "USA        2968.533112  99646.455526"
      ]
     },
     "execution_count": 32,
     "metadata": {},
     "output_type": "execute_result"
    }
   ],
   "source": [
    "df.groupby(\"Country\")[\"Energy Imports\"].agg([\"min\",\"max\"])"
   ]
  },
  {
   "cell_type": "code",
   "execution_count": 33,
   "id": "2dc16105-fc81-4ad5-973d-787ee1ee036a",
   "metadata": {},
   "outputs": [
    {
     "data": {
      "text/html": [
       "<div>\n",
       "<style scoped>\n",
       "    .dataframe tbody tr th:only-of-type {\n",
       "        vertical-align: middle;\n",
       "    }\n",
       "\n",
       "    .dataframe tbody tr th {\n",
       "        vertical-align: top;\n",
       "    }\n",
       "\n",
       "    .dataframe thead th {\n",
       "        text-align: right;\n",
       "    }\n",
       "</style>\n",
       "<table border=\"1\" class=\"dataframe\">\n",
       "  <thead>\n",
       "    <tr style=\"text-align: right;\">\n",
       "      <th></th>\n",
       "      <th></th>\n",
       "      <th>min</th>\n",
       "      <th>max</th>\n",
       "    </tr>\n",
       "    <tr>\n",
       "      <th>Country</th>\n",
       "      <th>Year</th>\n",
       "      <th></th>\n",
       "      <th></th>\n",
       "    </tr>\n",
       "  </thead>\n",
       "  <tbody>\n",
       "    <tr>\n",
       "      <th rowspan=\"5\" valign=\"top\">Australia</th>\n",
       "      <th>2000</th>\n",
       "      <td>19480.715042</td>\n",
       "      <td>92721.855861</td>\n",
       "    </tr>\n",
       "    <tr>\n",
       "      <th>2001</th>\n",
       "      <td>16808.724787</td>\n",
       "      <td>97065.015271</td>\n",
       "    </tr>\n",
       "    <tr>\n",
       "      <th>2002</th>\n",
       "      <td>4847.655677</td>\n",
       "      <td>94378.829207</td>\n",
       "    </tr>\n",
       "    <tr>\n",
       "      <th>2003</th>\n",
       "      <td>11977.333020</td>\n",
       "      <td>99506.486387</td>\n",
       "    </tr>\n",
       "    <tr>\n",
       "      <th>2004</th>\n",
       "      <td>1588.092786</td>\n",
       "      <td>85082.230390</td>\n",
       "    </tr>\n",
       "    <tr>\n",
       "      <th>...</th>\n",
       "      <th>...</th>\n",
       "      <td>...</td>\n",
       "      <td>...</td>\n",
       "    </tr>\n",
       "    <tr>\n",
       "      <th rowspan=\"5\" valign=\"top\">USA</th>\n",
       "      <th>2019</th>\n",
       "      <td>5668.125862</td>\n",
       "      <td>99128.307144</td>\n",
       "    </tr>\n",
       "    <tr>\n",
       "      <th>2020</th>\n",
       "      <td>2016.882560</td>\n",
       "      <td>69297.133303</td>\n",
       "    </tr>\n",
       "    <tr>\n",
       "      <th>2021</th>\n",
       "      <td>3057.857000</td>\n",
       "      <td>83683.725710</td>\n",
       "    </tr>\n",
       "    <tr>\n",
       "      <th>2022</th>\n",
       "      <td>10111.750376</td>\n",
       "      <td>90935.513403</td>\n",
       "    </tr>\n",
       "    <tr>\n",
       "      <th>2023</th>\n",
       "      <td>3484.240057</td>\n",
       "      <td>85641.931954</td>\n",
       "    </tr>\n",
       "  </tbody>\n",
       "</table>\n",
       "<p>240 rows × 2 columns</p>\n",
       "</div>"
      ],
      "text/plain": [
       "                         min           max\n",
       "Country   Year                            \n",
       "Australia 2000  19480.715042  92721.855861\n",
       "          2001  16808.724787  97065.015271\n",
       "          2002   4847.655677  94378.829207\n",
       "          2003  11977.333020  99506.486387\n",
       "          2004   1588.092786  85082.230390\n",
       "...                      ...           ...\n",
       "USA       2019   5668.125862  99128.307144\n",
       "          2020   2016.882560  69297.133303\n",
       "          2021   3057.857000  83683.725710\n",
       "          2022  10111.750376  90935.513403\n",
       "          2023   3484.240057  85641.931954\n",
       "\n",
       "[240 rows x 2 columns]"
      ]
     },
     "execution_count": 33,
     "metadata": {},
     "output_type": "execute_result"
    }
   ],
   "source": [
    "df.groupby([\"Country\",\"Year\"])[\"Production (GWh)\"].agg([\"min\",\"max\"])"
   ]
  },
  {
   "cell_type": "code",
   "execution_count": 34,
   "id": "e43b6f83-e0c6-4fdb-a8e6-9d8c2f4cc0ff",
   "metadata": {},
   "outputs": [
    {
     "data": {
      "text/plain": [
       "Country    Year\n",
       "Australia  2000    259.311733\n",
       "           2001    572.824230\n",
       "           2002    537.522357\n",
       "           2003    453.064461\n",
       "           2004    489.850636\n",
       "                      ...    \n",
       "USA        2019    629.461631\n",
       "           2020    572.037074\n",
       "           2021    415.262471\n",
       "           2022    631.670357\n",
       "           2023    367.777662\n",
       "Name: Ease of Doing Business, Length: 240, dtype: float64"
      ]
     },
     "execution_count": 34,
     "metadata": {},
     "output_type": "execute_result"
    }
   ],
   "source": [
    "df.groupby([\"Country\",\"Year\"])[\"Ease of Doing Business\"].sum()"
   ]
  },
  {
   "cell_type": "markdown",
   "id": "b51499f1-c13a-4be1-a892-784b74fe0dc8",
   "metadata": {},
   "source": [
    "### HERE ARE SOME HISTPLOTS FOR (PRODUCTION,INVESTMENTS AND GDP) to find the skewness:"
   ]
  },
  {
   "cell_type": "code",
   "execution_count": 36,
   "id": "a15ab91e-adde-4aba-9acb-1f0d81164a60",
   "metadata": {},
   "outputs": [
    {
     "data": {
      "text/plain": [
       "<Axes: xlabel='Production (GWh)', ylabel='Count'>"
      ]
     },
     "execution_count": 36,
     "metadata": {},
     "output_type": "execute_result"
    },
    {
     "data": {
      "image/png": "[encoded data removed]",
      "text/plain": [
       "<Figure size 640x480 with 1 Axes>"
      ]
     },
     "metadata": {},
     "output_type": "display_data"
    }
   ],
   "source": [
    "sns.histplot(x=\"Production (GWh)\",data=df,kde=True,bins=60)"
   ]
  },
  {
   "cell_type": "code",
   "execution_count": 37,
   "id": "6993d384-22d8-4834-aa60-b21f9ab83954",
   "metadata": {},
   "outputs": [
    {
     "data": {
      "text/plain": [
       "<Axes: xlabel='Investments (USD)', ylabel='Count'>"
      ]
     },
     "execution_count": 37,
     "metadata": {},
     "output_type": "execute_result"
    },
    {
     "data": {
      "image/png": "[encoded data removed]",
      "text/plain": [
       "<Figure size 640x480 with 1 Axes>"
      ]
     },
     "metadata": {},
     "output_type": "display_data"
    }
   ],
   "source": [
    "sns.histplot(x=\"Investments (USD)\", data=df, kde=True)"
   ]
  },
  {
   "cell_type": "code",
   "execution_count": 38,
   "id": "ad138f25-8d92-4edf-b26c-a436a476c4af",
   "metadata": {},
   "outputs": [
    {
     "data": {
      "text/plain": [
       "<Axes: xlabel='GDP', ylabel='Count'>"
      ]
     },
     "execution_count": 38,
     "metadata": {},
     "output_type": "execute_result"
    },
    {
     "data": {
      "image/png": "[encoded data removed]",
      "text/plain": [
       "<Figure size 640x480 with 1 Axes>"
      ]
     },
     "metadata": {},
     "output_type": "display_data"
    }
   ],
   "source": [
    "sns.histplot(x=\"GDP\", data=df, kde=True)"
   ]
  },
  {
   "cell_type": "markdown",
   "id": "128d2875-7017-4960-b16d-45a382402f7a",
   "metadata": {},
   "source": [
    "### IMPORTING LIBRARIES FOR LINE AND PIE CHART:"
   ]
  },
  {
   "cell_type": "code",
   "execution_count": 134,
   "id": "766c6a89-d069-465b-a7da-d1f95f599ba0",
   "metadata": {},
   "outputs": [],
   "source": [
    "import pandas as pd\n",
    "import matplotlib.pyplot as plt\n",
    "import seaborn as sns\n",
    "import plotly.express as px\n"
   ]
  },
  {
   "cell_type": "code",
   "execution_count": 135,
   "id": "32fb643c-4a40-4941-9f5d-f61dc207ea46",
   "metadata": {},
   "outputs": [],
   "source": [
    "yearly_production = df.groupby(\"Year\")[[\"Production (GWh)\"]].sum().reset_index()"
   ]
  },
  {
   "cell_type": "code",
   "execution_count": 136,
   "id": "30083dbf-0ebf-42f7-819b-91e1f3ce8c0d",
   "metadata": {},
   "outputs": [
    {
     "data": {
      "text/html": [
       "<div>\n",
       "<style scoped>\n",
       "    .dataframe tbody tr th:only-of-type {\n",
       "        vertical-align: middle;\n",
       "    }\n",
       "\n",
       "    .dataframe tbody tr th {\n",
       "        vertical-align: top;\n",
       "    }\n",
       "\n",
       "    .dataframe thead th {\n",
       "        text-align: right;\n",
       "    }\n",
       "</style>\n",
       "<table border=\"1\" class=\"dataframe\">\n",
       "  <thead>\n",
       "    <tr style=\"text-align: right;\">\n",
       "      <th></th>\n",
       "      <th>Year</th>\n",
       "      <th>Production (GWh)</th>\n",
       "    </tr>\n",
       "  </thead>\n",
       "  <tbody>\n",
       "    <tr>\n",
       "      <th>0</th>\n",
       "      <td>2000</td>\n",
       "      <td>4.590689e+06</td>\n",
       "    </tr>\n",
       "    <tr>\n",
       "      <th>1</th>\n",
       "      <td>2001</td>\n",
       "      <td>5.440588e+06</td>\n",
       "    </tr>\n",
       "    <tr>\n",
       "      <th>2</th>\n",
       "      <td>2002</td>\n",
       "      <td>5.351368e+06</td>\n",
       "    </tr>\n",
       "    <tr>\n",
       "      <th>3</th>\n",
       "      <td>2003</td>\n",
       "      <td>4.921058e+06</td>\n",
       "    </tr>\n",
       "    <tr>\n",
       "      <th>4</th>\n",
       "      <td>2004</td>\n",
       "      <td>5.212648e+06</td>\n",
       "    </tr>\n",
       "    <tr>\n",
       "      <th>5</th>\n",
       "      <td>2005</td>\n",
       "      <td>4.458518e+06</td>\n",
       "    </tr>\n",
       "    <tr>\n",
       "      <th>6</th>\n",
       "      <td>2006</td>\n",
       "      <td>5.564454e+06</td>\n",
       "    </tr>\n",
       "    <tr>\n",
       "      <th>7</th>\n",
       "      <td>2007</td>\n",
       "      <td>5.856549e+06</td>\n",
       "    </tr>\n",
       "    <tr>\n",
       "      <th>8</th>\n",
       "      <td>2008</td>\n",
       "      <td>5.747580e+06</td>\n",
       "    </tr>\n",
       "    <tr>\n",
       "      <th>9</th>\n",
       "      <td>2009</td>\n",
       "      <td>4.057895e+06</td>\n",
       "    </tr>\n",
       "    <tr>\n",
       "      <th>10</th>\n",
       "      <td>2010</td>\n",
       "      <td>6.454394e+06</td>\n",
       "    </tr>\n",
       "    <tr>\n",
       "      <th>11</th>\n",
       "      <td>2011</td>\n",
       "      <td>5.251513e+06</td>\n",
       "    </tr>\n",
       "    <tr>\n",
       "      <th>12</th>\n",
       "      <td>2012</td>\n",
       "      <td>3.827838e+06</td>\n",
       "    </tr>\n",
       "    <tr>\n",
       "      <th>13</th>\n",
       "      <td>2013</td>\n",
       "      <td>4.249676e+06</td>\n",
       "    </tr>\n",
       "    <tr>\n",
       "      <th>14</th>\n",
       "      <td>2014</td>\n",
       "      <td>5.858338e+06</td>\n",
       "    </tr>\n",
       "    <tr>\n",
       "      <th>15</th>\n",
       "      <td>2015</td>\n",
       "      <td>4.477055e+06</td>\n",
       "    </tr>\n",
       "    <tr>\n",
       "      <th>16</th>\n",
       "      <td>2016</td>\n",
       "      <td>6.025052e+06</td>\n",
       "    </tr>\n",
       "    <tr>\n",
       "      <th>17</th>\n",
       "      <td>2017</td>\n",
       "      <td>4.114650e+06</td>\n",
       "    </tr>\n",
       "    <tr>\n",
       "      <th>18</th>\n",
       "      <td>2018</td>\n",
       "      <td>6.052051e+06</td>\n",
       "    </tr>\n",
       "    <tr>\n",
       "      <th>19</th>\n",
       "      <td>2019</td>\n",
       "      <td>5.183836e+06</td>\n",
       "    </tr>\n",
       "    <tr>\n",
       "      <th>20</th>\n",
       "      <td>2020</td>\n",
       "      <td>4.371145e+06</td>\n",
       "    </tr>\n",
       "    <tr>\n",
       "      <th>21</th>\n",
       "      <td>2021</td>\n",
       "      <td>4.708488e+06</td>\n",
       "    </tr>\n",
       "    <tr>\n",
       "      <th>22</th>\n",
       "      <td>2022</td>\n",
       "      <td>4.722375e+06</td>\n",
       "    </tr>\n",
       "    <tr>\n",
       "      <th>23</th>\n",
       "      <td>2023</td>\n",
       "      <td>5.360227e+06</td>\n",
       "    </tr>\n",
       "  </tbody>\n",
       "</table>\n",
       "</div>"
      ],
      "text/plain": [
       "    Year  Production (GWh)\n",
       "0   2000      4.590689e+06\n",
       "1   2001      5.440588e+06\n",
       "2   2002      5.351368e+06\n",
       "3   2003      4.921058e+06\n",
       "4   2004      5.212648e+06\n",
       "5   2005      4.458518e+06\n",
       "6   2006      5.564454e+06\n",
       "7   2007      5.856549e+06\n",
       "8   2008      5.747580e+06\n",
       "9   2009      4.057895e+06\n",
       "10  2010      6.454394e+06\n",
       "11  2011      5.251513e+06\n",
       "12  2012      3.827838e+06\n",
       "13  2013      4.249676e+06\n",
       "14  2014      5.858338e+06\n",
       "15  2015      4.477055e+06\n",
       "16  2016      6.025052e+06\n",
       "17  2017      4.114650e+06\n",
       "18  2018      6.052051e+06\n",
       "19  2019      5.183836e+06\n",
       "20  2020      4.371145e+06\n",
       "21  2021      4.708488e+06\n",
       "22  2022      4.722375e+06\n",
       "23  2023      5.360227e+06"
      ]
     },
     "execution_count": 136,
     "metadata": {},
     "output_type": "execute_result"
    }
   ],
   "source": [
    "yearly_production"
   ]
  },
  {
   "cell_type": "markdown",
   "id": "28d195b8-e920-4e38-99e6-3256a650f8ed",
   "metadata": {},
   "source": [
    "### FINDING THE ANALYSIS FOR YEAR AND PRODUCTION IN THE DATA SET USING LINE CHART:"
   ]
  },
  {
   "cell_type": "code",
   "execution_count": 137,
   "id": "64223f05-0648-43b9-a051-a8f068a4d4e6",
   "metadata": {},
   "outputs": [
    {
     "data": {
      "text/plain": [
       "<Axes: title={'center': 'Renewable Energy Production Over Years'}, xlabel='Year'>"
      ]
     },
     "execution_count": 137,
     "metadata": {},
     "output_type": "execute_result"
    },
    {
     "data": {
      "image/png": "[encoded data removed]",
      "text/plain": [
       "<Figure size 1000x500 with 1 Axes>"
      ]
     },
     "metadata": {},
     "output_type": "display_data"
    }
   ],
   "source": [
    "yearly_production.plot(x=\"Year\", y=\"Production (GWh)\", kind=\"line\", marker=\"o\", figsize=(10,5), title=\"Renewable Energy Production Over Years\")"
   ]
  },
  {
   "cell_type": "code",
   "execution_count": 138,
   "id": "df996fee-20c7-49ca-b17b-eedfd35c9f23",
   "metadata": {},
   "outputs": [],
   "source": [
    "yearly_investments = df.groupby(\"Year\")[[\"Investments (USD)\"]].sum()"
   ]
  },
  {
   "cell_type": "code",
   "execution_count": 139,
   "id": "ae468e94-00e3-4ab8-ba25-07909f53e0ee",
   "metadata": {},
   "outputs": [
    {
     "data": {
      "text/html": [
       "<div>\n",
       "<style scoped>\n",
       "    .dataframe tbody tr th:only-of-type {\n",
       "        vertical-align: middle;\n",
       "    }\n",
       "\n",
       "    .dataframe tbody tr th {\n",
       "        vertical-align: top;\n",
       "    }\n",
       "\n",
       "    .dataframe thead th {\n",
       "        text-align: right;\n",
       "    }\n",
       "</style>\n",
       "<table border=\"1\" class=\"dataframe\">\n",
       "  <thead>\n",
       "    <tr style=\"text-align: right;\">\n",
       "      <th></th>\n",
       "      <th>Investments (USD)</th>\n",
       "    </tr>\n",
       "    <tr>\n",
       "      <th>Year</th>\n",
       "      <th></th>\n",
       "    </tr>\n",
       "  </thead>\n",
       "  <tbody>\n",
       "    <tr>\n",
       "      <th>2000</th>\n",
       "      <td>4.989436e+11</td>\n",
       "    </tr>\n",
       "    <tr>\n",
       "      <th>2001</th>\n",
       "      <td>5.589671e+11</td>\n",
       "    </tr>\n",
       "    <tr>\n",
       "      <th>2002</th>\n",
       "      <td>6.002819e+11</td>\n",
       "    </tr>\n",
       "    <tr>\n",
       "      <th>2003</th>\n",
       "      <td>4.789026e+11</td>\n",
       "    </tr>\n",
       "    <tr>\n",
       "      <th>2004</th>\n",
       "      <td>4.855244e+11</td>\n",
       "    </tr>\n",
       "    <tr>\n",
       "      <th>2005</th>\n",
       "      <td>4.432120e+11</td>\n",
       "    </tr>\n",
       "    <tr>\n",
       "      <th>2006</th>\n",
       "      <td>5.391130e+11</td>\n",
       "    </tr>\n",
       "    <tr>\n",
       "      <th>2007</th>\n",
       "      <td>6.342250e+11</td>\n",
       "    </tr>\n",
       "    <tr>\n",
       "      <th>2008</th>\n",
       "      <td>5.670005e+11</td>\n",
       "    </tr>\n",
       "    <tr>\n",
       "      <th>2009</th>\n",
       "      <td>4.601071e+11</td>\n",
       "    </tr>\n",
       "    <tr>\n",
       "      <th>2010</th>\n",
       "      <td>6.562143e+11</td>\n",
       "    </tr>\n",
       "    <tr>\n",
       "      <th>2011</th>\n",
       "      <td>5.653208e+11</td>\n",
       "    </tr>\n",
       "    <tr>\n",
       "      <th>2012</th>\n",
       "      <td>3.629085e+11</td>\n",
       "    </tr>\n",
       "    <tr>\n",
       "      <th>2013</th>\n",
       "      <td>4.152928e+11</td>\n",
       "    </tr>\n",
       "    <tr>\n",
       "      <th>2014</th>\n",
       "      <td>6.101504e+11</td>\n",
       "    </tr>\n",
       "    <tr>\n",
       "      <th>2015</th>\n",
       "      <td>4.279622e+11</td>\n",
       "    </tr>\n",
       "    <tr>\n",
       "      <th>2016</th>\n",
       "      <td>5.999346e+11</td>\n",
       "    </tr>\n",
       "    <tr>\n",
       "      <th>2017</th>\n",
       "      <td>4.047755e+11</td>\n",
       "    </tr>\n",
       "    <tr>\n",
       "      <th>2018</th>\n",
       "      <td>6.314272e+11</td>\n",
       "    </tr>\n",
       "    <tr>\n",
       "      <th>2019</th>\n",
       "      <td>5.070050e+11</td>\n",
       "    </tr>\n",
       "    <tr>\n",
       "      <th>2020</th>\n",
       "      <td>4.269747e+11</td>\n",
       "    </tr>\n",
       "    <tr>\n",
       "      <th>2021</th>\n",
       "      <td>5.241786e+11</td>\n",
       "    </tr>\n",
       "    <tr>\n",
       "      <th>2022</th>\n",
       "      <td>4.516864e+11</td>\n",
       "    </tr>\n",
       "    <tr>\n",
       "      <th>2023</th>\n",
       "      <td>5.402785e+11</td>\n",
       "    </tr>\n",
       "  </tbody>\n",
       "</table>\n",
       "</div>"
      ],
      "text/plain": [
       "      Investments (USD)\n",
       "Year                   \n",
       "2000       4.989436e+11\n",
       "2001       5.589671e+11\n",
       "2002       6.002819e+11\n",
       "2003       4.789026e+11\n",
       "2004       4.855244e+11\n",
       "2005       4.432120e+11\n",
       "2006       5.391130e+11\n",
       "2007       6.342250e+11\n",
       "2008       5.670005e+11\n",
       "2009       4.601071e+11\n",
       "2010       6.562143e+11\n",
       "2011       5.653208e+11\n",
       "2012       3.629085e+11\n",
       "2013       4.152928e+11\n",
       "2014       6.101504e+11\n",
       "2015       4.279622e+11\n",
       "2016       5.999346e+11\n",
       "2017       4.047755e+11\n",
       "2018       6.314272e+11\n",
       "2019       5.070050e+11\n",
       "2020       4.269747e+11\n",
       "2021       5.241786e+11\n",
       "2022       4.516864e+11\n",
       "2023       5.402785e+11"
      ]
     },
     "execution_count": 139,
     "metadata": {},
     "output_type": "execute_result"
    }
   ],
   "source": [
    "yearly_investments"
   ]
  },
  {
   "cell_type": "markdown",
   "id": "16332622-83fa-4339-8081-539c059a498e",
   "metadata": {},
   "source": [
    "### ANALYSIS FOR YEAR AND INVESTMENTS IN THE DATA SET USING LINE CHART:"
   ]
  },
  {
   "cell_type": "code",
   "execution_count": 140,
   "id": "fef34754-6ef7-472a-ab14-020307a6faff",
   "metadata": {},
   "outputs": [
    {
     "data": {
      "text/plain": [
       "[<matplotlib.lines.Line2D at 0x212b969f800>]"
      ]
     },
     "execution_count": 140,
     "metadata": {},
     "output_type": "execute_result"
    },
    {
     "data": {
      "image/png": "[encoded data removed]",
      "text/plain": [
       "<Figure size 640x480 with 1 Axes>"
      ]
     },
     "metadata": {},
     "output_type": "display_data"
    }
   ],
   "source": [
    "plt.plot(yearly_investments.index, yearly_investments[\"Investments (USD)\"], marker='o', linestyle='-')"
   ]
  },
  {
   "cell_type": "markdown",
   "id": "e07f62a8-2951-4129-9bbe-2b2247b041ad",
   "metadata": {},
   "source": [
    "### ENERGY TYPES AND THEIR PRODUCTION IN OVERALL YEARS: "
   ]
  },
  {
   "cell_type": "code",
   "execution_count": 65,
   "id": "68962077-20a3-46d4-a70d-313ba5d264cd",
   "metadata": {},
   "outputs": [],
   "source": [
    "energy_production = df.groupby(\"Energy Type\")[\"Production (GWh)\"].sum()"
   ]
  },
  {
   "cell_type": "code",
   "execution_count": 66,
   "id": "138bb8da-f298-423a-ace1-0d15fc1ff8ae",
   "metadata": {},
   "outputs": [
    {
     "data": {
      "text/plain": [
       "Energy Type\n",
       "Biomass       2.484571e+07\n",
       "Geothermal    2.465072e+07\n",
       "Hydro         2.396601e+07\n",
       "Solar         2.406036e+07\n",
       "Wind          2.433519e+07\n",
       "Name: Production (GWh), dtype: float64"
      ]
     },
     "execution_count": 66,
     "metadata": {},
     "output_type": "execute_result"
    }
   ],
   "source": [
    "energy_production"
   ]
  },
  {
   "cell_type": "code",
   "execution_count": 67,
   "id": "0a8f9324-4434-4733-ade3-f82d56b69a0e",
   "metadata": {},
   "outputs": [
    {
     "data": {
      "text/plain": [
       "<Axes: xlabel='Energy Type'>"
      ]
     },
     "execution_count": 67,
     "metadata": {},
     "output_type": "execute_result"
    },
    {
     "data": {
      "image/png": "[encoded data removed]",
      "text/plain": [
       "<Figure size 640x480 with 1 Axes>"
      ]
     },
     "metadata": {},
     "output_type": "display_data"
    }
   ],
   "source": [
    "energy_production.plot(kind='bar', color='skyblue')"
   ]
  },
  {
   "cell_type": "markdown",
   "id": "c481ad4d-4930-41a5-8f61-505462ff6243",
   "metadata": {},
   "source": [
    "### COUNTRIES AND THEIR OVERALL CO2 EMISSIONS :"
   ]
  },
  {
   "cell_type": "code",
   "execution_count": 75,
   "id": "b09b1b46-a1cc-4de7-9404-a2952cc3e4b9",
   "metadata": {},
   "outputs": [],
   "source": [
    "country_co2 = df.groupby(\"Country\")[\"CO2 Emissions\"].sum()"
   ]
  },
  {
   "cell_type": "code",
   "execution_count": 76,
   "id": "4a994a6b-afe0-4191-bd94-a43fb4b7a047",
   "metadata": {},
   "outputs": [
    {
     "data": {
      "text/plain": [
       "Country\n",
       "Australia    1.300034e+08\n",
       "Brazil       1.168842e+08\n",
       "Canada       1.162121e+08\n",
       "China        1.220042e+08\n",
       "France       1.514248e+08\n",
       "Germany      1.164713e+08\n",
       "India        1.122811e+08\n",
       "Japan        1.275699e+08\n",
       "Russia       1.215552e+08\n",
       "USA          1.136399e+08\n",
       "Name: CO2 Emissions, dtype: float64"
      ]
     },
     "execution_count": 76,
     "metadata": {},
     "output_type": "execute_result"
    }
   ],
   "source": [
    "country_co2"
   ]
  },
  {
   "cell_type": "code",
   "execution_count": 77,
   "id": "a8542163-6d27-4d55-8abe-4ac2a89a0de3",
   "metadata": {},
   "outputs": [
    {
     "data": {
      "text/plain": [
       "<Axes: xlabel='Country'>"
      ]
     },
     "execution_count": 77,
     "metadata": {},
     "output_type": "execute_result"
    },
    {
     "data": {
      "image/png": "[encoded data removed]",
      "text/plain": [
       "<Figure size 640x480 with 1 Axes>"
      ]
     },
     "metadata": {},
     "output_type": "display_data"
    }
   ],
   "source": [
    "country_co2.plot(kind='bar', color='red')"
   ]
  },
  {
   "cell_type": "markdown",
   "id": "dac90d36-f166-4d1c-a670-21031ace859e",
   "metadata": {},
   "source": [
    "### COUNTRIES AND THEIR PROPORTION OF ENERGY FROM RENEWABLES FROM(2000-2023):"
   ]
  },
  {
   "cell_type": "code",
   "execution_count": 79,
   "id": "044f8b97-ddab-40a3-8d85-c00091ca31ba",
   "metadata": {},
   "outputs": [],
   "source": [
    "country_renewables = df.groupby(\"Country\")[\"Proportion of Energy from Renewables\"].mean()"
   ]
  },
  {
   "cell_type": "code",
   "execution_count": 80,
   "id": "b1782206-555b-4f15-9f9f-a69224cdf56e",
   "metadata": {},
   "outputs": [
    {
     "data": {
      "text/plain": [
       "Country\n",
       "Australia    52.716070\n",
       "Brazil       45.998987\n",
       "Canada       48.803394\n",
       "China        48.115621\n",
       "France       50.893399\n",
       "Germany      51.161707\n",
       "India        49.626270\n",
       "Japan        49.131578\n",
       "Russia       50.877819\n",
       "USA          50.030260\n",
       "Name: Proportion of Energy from Renewables, dtype: float64"
      ]
     },
     "execution_count": 80,
     "metadata": {},
     "output_type": "execute_result"
    }
   ],
   "source": [
    "country_renewables"
   ]
  },
  {
   "cell_type": "code",
   "execution_count": 81,
   "id": "df2e921b-f479-4b1e-9f6c-03e645531b09",
   "metadata": {},
   "outputs": [
    {
     "data": {
      "text/plain": [
       "<Axes: xlabel='Country'>"
      ]
     },
     "execution_count": 81,
     "metadata": {},
     "output_type": "execute_result"
    },
    {
     "data": {
      "image/png": "[encoded data removed]",
      "text/plain": [
       "<Figure size 640x480 with 1 Axes>"
      ]
     },
     "metadata": {},
     "output_type": "display_data"
    }
   ],
   "source": [
    "country_renewables.plot(kind='bar', color='green')"
   ]
  },
  {
   "cell_type": "markdown",
   "id": "2ce99b40-6d12-4b34-8da3-7862f2ce3c07",
   "metadata": {},
   "source": [
    "### COUNTRIES AND THEIR GDP'S : "
   ]
  },
  {
   "cell_type": "code",
   "execution_count": 146,
   "id": "09e99d61-370c-4695-b923-b3601a0d2b69",
   "metadata": {},
   "outputs": [],
   "source": [
    "country = df[\"Country\"]\n",
    "gdp = df[\"GDP\"]"
   ]
  },
  {
   "cell_type": "code",
   "execution_count": 147,
   "id": "20531410-5cb5-449f-96b8-2a2e96bed181",
   "metadata": {},
   "outputs": [
    {
     "data": {
      "text/plain": [
       "<BarContainer object of 2500 artists>"
      ]
     },
     "execution_count": 147,
     "metadata": {},
     "output_type": "execute_result"
    },
    {
     "data": {
      "image/png": "[encoded data removed]",
      "text/plain": [
       "<Figure size 640x480 with 1 Axes>"
      ]
     },
     "metadata": {},
     "output_type": "display_data"
    }
   ],
   "source": [
    "plt.bar(country, gdp, color='blue')"
   ]
  },
  {
   "cell_type": "code",
   "execution_count": 100,
   "id": "227ffa2b-b855-4254-b70b-20b17046f4fe",
   "metadata": {},
   "outputs": [],
   "source": [
    "country_investment = df.groupby(\"Country\")[\"Investments (USD)\"].sum()"
   ]
  },
  {
   "cell_type": "code",
   "execution_count": 101,
   "id": "b80aaf29-7d66-4bc9-b590-01f79d89c361",
   "metadata": {},
   "outputs": [
    {
     "data": {
      "text/plain": [
       "Country\n",
       "Australia    1.210016e+12\n",
       "Brazil       1.204817e+12\n",
       "Canada       1.131853e+12\n",
       "China        1.218560e+12\n",
       "France       1.472550e+12\n",
       "Germany      1.182205e+12\n",
       "India        1.312304e+12\n",
       "Japan        1.256971e+12\n",
       "Russia       1.170506e+12\n",
       "USA          1.230604e+12\n",
       "Name: Investments (USD), dtype: float64"
      ]
     },
     "execution_count": 101,
     "metadata": {},
     "output_type": "execute_result"
    }
   ],
   "source": [
    "country_investment"
   ]
  },
  {
   "cell_type": "markdown",
   "id": "1969157a-18d6-41d9-a49d-5e011e0118a1",
   "metadata": {},
   "source": [
    "###  THROUGH THE PIE CHART,THE HIGHEST INVESTED COUNTRY IS INDIA. "
   ]
  },
  {
   "cell_type": "code",
   "execution_count": 102,
   "id": "72ae90b7-1f18-417b-bb89-5736b8ea5b41",
   "metadata": {},
   "outputs": [
    {
     "data": {
      "text/plain": [
       "<Axes: ylabel='Investments (USD)'>"
      ]
     },
     "execution_count": 102,
     "metadata": {},
     "output_type": "execute_result"
    },
    {
     "data": {
      "image/png": "[encoded data removed]",
      "text/plain": [
       "<Figure size 640x480 with 1 Axes>"
      ]
     },
     "metadata": {},
     "output_type": "display_data"
    }
   ],
   "source": [
    "country_investment.plot(kind='pie', autopct='%1.1f%%', startangle=90, cmap='tab10')"
   ]
  },
  {
   "cell_type": "code",
   "execution_count": 103,
   "id": "e3251d8e-839d-4ce7-a787-1361be664e33",
   "metadata": {},
   "outputs": [],
   "source": [
    "country_production = df.groupby(\"Country\")[\"Production (GWh)\"].sum()"
   ]
  },
  {
   "cell_type": "code",
   "execution_count": 104,
   "id": "6bf9002e-deef-45dc-beab-4583500caba5",
   "metadata": {},
   "outputs": [
    {
     "data": {
      "text/plain": [
       "Country\n",
       "Australia    1.170192e+07\n",
       "Brazil       1.192723e+07\n",
       "Canada       1.126554e+07\n",
       "China        1.314761e+07\n",
       "France       1.458100e+07\n",
       "Germany      1.189983e+07\n",
       "India        1.233874e+07\n",
       "Japan        1.229910e+07\n",
       "Russia       1.177025e+07\n",
       "USA          1.092676e+07\n",
       "Name: Production (GWh), dtype: float64"
      ]
     },
     "execution_count": 104,
     "metadata": {},
     "output_type": "execute_result"
    }
   ],
   "source": [
    "country_production"
   ]
  },
  {
   "cell_type": "markdown",
   "id": "1a3e282e-b873-4809-adbc-dec0a090b699",
   "metadata": {},
   "source": [
    "### HERE THE HIGHEST PRODUCTION IS FRANCE."
   ]
  },
  {
   "cell_type": "code",
   "execution_count": 107,
   "id": "2ae44501-aace-4e2a-9239-244290ba285a",
   "metadata": {},
   "outputs": [
    {
     "data": {
      "text/plain": [
       "<Axes: ylabel='Production (GWh)'>"
      ]
     },
     "execution_count": 107,
     "metadata": {},
     "output_type": "execute_result"
    },
    {
     "data": {
      "image/png": "[encoded data removed]",
      "text/plain": [
       "<Figure size 640x480 with 1 Axes>"
      ]
     },
     "metadata": {},
     "output_type": "display_data"
    }
   ],
   "source": [
    "country_production.plot(kind='pie', autopct='%1.1f%%', startangle=90, cmap='tab10')"
   ]
  },
  {
   "cell_type": "code",
   "execution_count": 164,
   "id": "617672fc-4cf1-42bb-8bf6-faad5aad53cb",
   "metadata": {},
   "outputs": [],
   "source": [
    "country_GDP = df.groupby(\"Country\")[\"GDP\"].sum()"
   ]
  },
  {
   "cell_type": "markdown",
   "id": "7f5c3a9d-477a-4d92-9daa-4bcb7833e066",
   "metadata": {},
   "source": [
    "### HERE CHINA HOLDS THE SECONG PLACE FOR GDP."
   ]
  },
  {
   "cell_type": "code",
   "execution_count": 165,
   "id": "6808d4a4-d42c-4777-bfaf-27acddbc70d7",
   "metadata": {},
   "outputs": [
    {
     "data": {
      "text/plain": [
       "<Axes: ylabel='GDP'>"
      ]
     },
     "execution_count": 165,
     "metadata": {},
     "output_type": "execute_result"
    },
    {
     "data": {
      "image/png": "[encoded data removed]",
      "text/plain": [
       "<Figure size 640x480 with 1 Axes>"
      ]
     },
     "metadata": {},
     "output_type": "display_data"
    }
   ],
   "source": [
    "country_GDP.plot(kind='pie', autopct='%1.1f%%', startangle=90, cmap='tab10')"
   ]
  },
  {
   "cell_type": "code",
   "execution_count": 166,
   "id": "2a936ff6-d801-4b11-8a2b-395825809c7e",
   "metadata": {},
   "outputs": [],
   "source": [
    "country_co2 = df.groupby(\"Country\")[\"CO2 Emissions\"].sum()"
   ]
  },
  {
   "cell_type": "markdown",
   "id": "43d4892e-76cc-4400-940a-516c71a3d45b",
   "metadata": {},
   "source": [
    "### INDIA IS THE LOWEST OF CO2 EMISSION COMPARING TO OTHER COUNTRIES:"
   ]
  },
  {
   "cell_type": "code",
   "execution_count": 167,
   "id": "8c678f3c-fbda-46b4-940a-699f27ccc618",
   "metadata": {},
   "outputs": [
    {
     "data": {
      "text/plain": [
       "<Axes: ylabel='CO2 Emissions'>"
      ]
     },
     "execution_count": 167,
     "metadata": {},
     "output_type": "execute_result"
    },
    {
     "data": {
      "image/png": "[encoded data removed]",
      "text/plain": [
       "<Figure size 640x480 with 1 Axes>"
      ]
     },
     "metadata": {},
     "output_type": "display_data"
    }
   ],
   "source": [
    "country_co2.plot(kind='pie', autopct='%1.1f%%', startangle=90, cmap='tab10')"
   ]
  },
  {
   "cell_type": "code",
   "execution_count": 170,
   "id": "ffadd3cf-e00b-47c0-9079-5df72026c8db",
   "metadata": {},
   "outputs": [],
   "source": [
    "energy_type_production = df.groupby(\"Energy Type\")[\"Production (GWh)\"].sum()"
   ]
  },
  {
   "cell_type": "markdown",
   "id": "ef4e76a2-44a7-47e9-852b-5fb5b9bd1e54",
   "metadata": {},
   "source": [
    "### IN CASE OF PRODUCTION BIOMASS PLAYS THE MAIN ROLE."
   ]
  },
  {
   "cell_type": "code",
   "execution_count": 171,
   "id": "49e50a45-bf63-4d12-9204-8f90a9904647",
   "metadata": {},
   "outputs": [
    {
     "data": {
      "text/plain": [
       "<Axes: ylabel='Production (GWh)'>"
      ]
     },
     "execution_count": 171,
     "metadata": {},
     "output_type": "execute_result"
    },
    {
     "data": {
      "image/png": "[encoded data removed]",
      "text/plain": [
       "<Figure size 640x480 with 1 Axes>"
      ]
     },
     "metadata": {},
     "output_type": "display_data"
    }
   ],
   "source": [
    "energy_type_production.plot(kind='pie', autopct='%1.1f%%', startangle=90, cmap='tab10')"
   ]
  },
  {
   "cell_type": "code",
   "execution_count": 48,
   "id": "fe15590f-3d5b-4864-86ca-42579f0c3f92",
   "metadata": {},
   "outputs": [],
   "source": [
    "country_energy = df.groupby(\"Country\")[\"Energy Consumption\"].sum().reset_index() "
   ]
  },
  {
   "cell_type": "code",
   "execution_count": 49,
   "id": "b1e2bc69-ba39-426b-af3e-97d6b0fb5fdc",
   "metadata": {},
   "outputs": [
    {
     "data": {
      "text/html": [
       "<div>\n",
       "<style scoped>\n",
       "    .dataframe tbody tr th:only-of-type {\n",
       "        vertical-align: middle;\n",
       "    }\n",
       "\n",
       "    .dataframe tbody tr th {\n",
       "        vertical-align: top;\n",
       "    }\n",
       "\n",
       "    .dataframe thead th {\n",
       "        text-align: right;\n",
       "    }\n",
       "</style>\n",
       "<table border=\"1\" class=\"dataframe\">\n",
       "  <thead>\n",
       "    <tr style=\"text-align: right;\">\n",
       "      <th></th>\n",
       "      <th>Country</th>\n",
       "      <th>Energy Consumption</th>\n",
       "    </tr>\n",
       "  </thead>\n",
       "  <tbody>\n",
       "    <tr>\n",
       "      <th>0</th>\n",
       "      <td>Australia</td>\n",
       "      <td>1.150346e+08</td>\n",
       "    </tr>\n",
       "    <tr>\n",
       "      <th>1</th>\n",
       "      <td>Brazil</td>\n",
       "      <td>1.162348e+08</td>\n",
       "    </tr>\n",
       "    <tr>\n",
       "      <th>2</th>\n",
       "      <td>Canada</td>\n",
       "      <td>1.184600e+08</td>\n",
       "    </tr>\n",
       "    <tr>\n",
       "      <th>3</th>\n",
       "      <td>China</td>\n",
       "      <td>1.251342e+08</td>\n",
       "    </tr>\n",
       "    <tr>\n",
       "      <th>4</th>\n",
       "      <td>France</td>\n",
       "      <td>1.473137e+08</td>\n",
       "    </tr>\n",
       "    <tr>\n",
       "      <th>5</th>\n",
       "      <td>Germany</td>\n",
       "      <td>1.154598e+08</td>\n",
       "    </tr>\n",
       "    <tr>\n",
       "      <th>6</th>\n",
       "      <td>India</td>\n",
       "      <td>1.269759e+08</td>\n",
       "    </tr>\n",
       "    <tr>\n",
       "      <th>7</th>\n",
       "      <td>Japan</td>\n",
       "      <td>1.359669e+08</td>\n",
       "    </tr>\n",
       "    <tr>\n",
       "      <th>8</th>\n",
       "      <td>Russia</td>\n",
       "      <td>1.222343e+08</td>\n",
       "    </tr>\n",
       "    <tr>\n",
       "      <th>9</th>\n",
       "      <td>USA</td>\n",
       "      <td>1.164388e+08</td>\n",
       "    </tr>\n",
       "  </tbody>\n",
       "</table>\n",
       "</div>"
      ],
      "text/plain": [
       "     Country  Energy Consumption\n",
       "0  Australia        1.150346e+08\n",
       "1     Brazil        1.162348e+08\n",
       "2     Canada        1.184600e+08\n",
       "3      China        1.251342e+08\n",
       "4     France        1.473137e+08\n",
       "5    Germany        1.154598e+08\n",
       "6      India        1.269759e+08\n",
       "7      Japan        1.359669e+08\n",
       "8     Russia        1.222343e+08\n",
       "9        USA        1.164388e+08"
      ]
     },
     "execution_count": 49,
     "metadata": {},
     "output_type": "execute_result"
    }
   ],
   "source": [
    "country_energy"
   ]
  },
  {
   "cell_type": "markdown",
   "id": "b1fee536-7b91-4618-8644-e081941081b5",
   "metadata": {},
   "source": [
    "### HERE ARE THE  TOP 5 ENERGY PRODUCING COUNTRIES:"
   ]
  },
  {
   "cell_type": "code",
   "execution_count": 67,
   "id": "797ff80d-3438-4d71-bd28-51e999d5cddd",
   "metadata": {},
   "outputs": [
    {
     "name": "stdout",
     "output_type": "stream",
     "text": [
      " The best country in energy production is: France with 147313678.75798124 GWh\n",
      "\n",
      " Top 5 Energy Producing Countries:\n",
      "  Country  Energy Consumption\n",
      "4  France        1.473137e+08\n",
      "7   Japan        1.359669e+08\n",
      "6   India        1.269759e+08\n",
      "3   China        1.251342e+08\n",
      "8  Russia        1.222343e+08\n"
     ]
    }
   ],
   "source": [
    "best_country = country_energy.iloc[0] \n",
    "\n",
    "print(f\" The best country in energy production is: {best_country['Country']} with {best_country['Energy Consumption']} GWh\")\n",
    "\n",
    "print(\"\\n Top 5 Energy Producing Countries:\")\n",
    "print(country_energy.head())"
   ]
  },
  {
   "cell_type": "code",
   "execution_count": null,
   "id": "aca2de8b-ff53-4cab-9097-3f7c6b6fd78f",
   "metadata": {},
   "outputs": [],
   "source": []
  }
 ],
 "metadata": {
  "kernelspec": {
   "display_name": "Python [conda env:base] *",
   "language": "python",
   "name": "conda-base-py"
  },
  "language_info": {
   "codemirror_mode": {
    "name": "ipython",
    "version": 3
   },
   "file_extension": ".py",
   "mimetype": "text/x-python",
   "name": "python",
   "nbconvert_exporter": "python",
   "pygments_lexer": "ipython3",
   "version": "3.12.7"
  }
 },
 "nbformat": 4,
 "nbformat_minor": 5
}
